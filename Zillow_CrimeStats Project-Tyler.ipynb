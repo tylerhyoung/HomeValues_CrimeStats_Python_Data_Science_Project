{
 "cells": [
  {
   "cell_type": "markdown",
   "metadata": {},
   "source": [
    "# Final Project Zillow Data with Crime Statistics"
   ]
  },
  {
   "cell_type": "markdown",
   "metadata": {},
   "source": [
    "Data wraningling and analysis on zillow housing data and FBI crime statistics from across the country."
   ]
  },
  {
   "cell_type": "code",
   "execution_count": 1,
   "metadata": {
    "collapsed": false
   },
   "outputs": [
    {
     "name": "stdout",
     "output_type": "stream",
     "text": [
      "Populating the interactive namespace from numpy and matplotlib\n"
     ]
    }
   ],
   "source": [
    "import pandas as pd\n",
    "import numpy as np\n",
    "import seaborn as sns\n",
    "%pylab inline\n",
    "\n",
    "import sklearn as sk\n",
    "import sklearn.tree as tree\n",
    "from IPython.display import Image  \n",
    "import pydotplus"
   ]
  },
  {
   "cell_type": "markdown",
   "metadata": {},
   "source": [
    "## Load Home Values for all U.S. cities"
   ]
  },
  {
   "cell_type": "code",
   "execution_count": 62,
   "metadata": {
    "collapsed": false
   },
   "outputs": [],
   "source": [
    "city = pd.read_csv('City_time_series.csv')"
   ]
  },
  {
   "cell_type": "code",
   "execution_count": 63,
   "metadata": {
    "collapsed": true
   },
   "outputs": [],
   "source": [
    "city_names = pd.read_csv('cities_crosswalk.csv')"
   ]
  },
  {
   "cell_type": "code",
   "execution_count": 64,
   "metadata": {
    "collapsed": false
   },
   "outputs": [],
   "source": [
    "city = city_names.merge(city, left_on = 'Unique_City_ID', right_on='RegionName', how = 'right')"
   ]
  },
  {
   "cell_type": "code",
   "execution_count": 65,
   "metadata": {
    "collapsed": false
   },
   "outputs": [],
   "source": [
    "city['Year'] = city['Date'].apply(lambda x:x[:4])"
   ]
  },
  {
   "cell_type": "code",
   "execution_count": 66,
   "metadata": {
    "collapsed": false
   },
   "outputs": [],
   "source": [
    "city.drop(['RegionName','Unique_City_ID','Date','County'], axis = 1, inplace = True)"
   ]
  },
  {
   "cell_type": "markdown",
   "metadata": {},
   "source": [
    "Take only 2014-2016 to merge because crime data is only from 2014-2016"
   ]
  },
  {
   "cell_type": "code",
   "execution_count": 67,
   "metadata": {
    "collapsed": true
   },
   "outputs": [],
   "source": [
    "city14_16 = city[(city.Year =='2016')|(city.Year =='2015')|(city.Year=='2014')]"
   ]
  },
  {
   "cell_type": "code",
   "execution_count": 68,
   "metadata": {
    "collapsed": false
   },
   "outputs": [
    {
     "data": {
      "text/html": [
       "<div>\n",
       "<style>\n",
       "    .dataframe thead tr:only-child th {\n",
       "        text-align: right;\n",
       "    }\n",
       "\n",
       "    .dataframe thead th {\n",
       "        text-align: left;\n",
       "    }\n",
       "\n",
       "    .dataframe tbody tr th {\n",
       "        vertical-align: top;\n",
       "    }\n",
       "</style>\n",
       "<table border=\"1\" class=\"dataframe\">\n",
       "  <thead>\n",
       "    <tr style=\"text-align: right;\">\n",
       "      <th></th>\n",
       "      <th>City</th>\n",
       "      <th>State</th>\n",
       "      <th>InventorySeasonallyAdjusted_AllHomes</th>\n",
       "      <th>InventoryRaw_AllHomes</th>\n",
       "      <th>MedianListingPricePerSqft_1Bedroom</th>\n",
       "      <th>MedianListingPricePerSqft_2Bedroom</th>\n",
       "      <th>MedianListingPricePerSqft_3Bedroom</th>\n",
       "      <th>MedianListingPricePerSqft_4Bedroom</th>\n",
       "      <th>MedianListingPricePerSqft_5BedroomOrMore</th>\n",
       "      <th>MedianListingPricePerSqft_AllHomes</th>\n",
       "      <th>...</th>\n",
       "      <th>ZHVI_CondoCoop</th>\n",
       "      <th>ZHVI_MiddleTier</th>\n",
       "      <th>ZHVI_SingleFamilyResidence</th>\n",
       "      <th>ZHVI_TopTier</th>\n",
       "      <th>ZRI_AllHomes</th>\n",
       "      <th>ZRI_AllHomesPlusMultifamily</th>\n",
       "      <th>ZriPerSqft_AllHomes</th>\n",
       "      <th>Zri_MultiFamilyResidenceRental</th>\n",
       "      <th>Zri_SingleFamilyResidenceRental</th>\n",
       "      <th>Year</th>\n",
       "    </tr>\n",
       "  </thead>\n",
       "  <tbody>\n",
       "    <tr>\n",
       "      <th>213</th>\n",
       "      <td>Oak Grove</td>\n",
       "      <td>KY</td>\n",
       "      <td>119.0</td>\n",
       "      <td>119.0</td>\n",
       "      <td>NaN</td>\n",
       "      <td>NaN</td>\n",
       "      <td>87.412587</td>\n",
       "      <td>NaN</td>\n",
       "      <td>NaN</td>\n",
       "      <td>81.751055</td>\n",
       "      <td>...</td>\n",
       "      <td>NaN</td>\n",
       "      <td>92600.0</td>\n",
       "      <td>92600.0</td>\n",
       "      <td>115900.0</td>\n",
       "      <td>819.0</td>\n",
       "      <td>792.0</td>\n",
       "      <td>0.754</td>\n",
       "      <td>683.0</td>\n",
       "      <td>795.0</td>\n",
       "      <td>2014</td>\n",
       "    </tr>\n",
       "    <tr>\n",
       "      <th>214</th>\n",
       "      <td>Oak Grove</td>\n",
       "      <td>KY</td>\n",
       "      <td>108.0</td>\n",
       "      <td>100.0</td>\n",
       "      <td>NaN</td>\n",
       "      <td>NaN</td>\n",
       "      <td>85.374332</td>\n",
       "      <td>NaN</td>\n",
       "      <td>NaN</td>\n",
       "      <td>81.818182</td>\n",
       "      <td>...</td>\n",
       "      <td>NaN</td>\n",
       "      <td>92600.0</td>\n",
       "      <td>92600.0</td>\n",
       "      <td>115600.0</td>\n",
       "      <td>821.0</td>\n",
       "      <td>796.0</td>\n",
       "      <td>0.756</td>\n",
       "      <td>684.0</td>\n",
       "      <td>799.0</td>\n",
       "      <td>2014</td>\n",
       "    </tr>\n",
       "    <tr>\n",
       "      <th>215</th>\n",
       "      <td>Oak Grove</td>\n",
       "      <td>KY</td>\n",
       "      <td>105.0</td>\n",
       "      <td>98.0</td>\n",
       "      <td>NaN</td>\n",
       "      <td>NaN</td>\n",
       "      <td>88.211181</td>\n",
       "      <td>NaN</td>\n",
       "      <td>NaN</td>\n",
       "      <td>84.552846</td>\n",
       "      <td>...</td>\n",
       "      <td>NaN</td>\n",
       "      <td>92900.0</td>\n",
       "      <td>92900.0</td>\n",
       "      <td>115200.0</td>\n",
       "      <td>823.0</td>\n",
       "      <td>798.0</td>\n",
       "      <td>0.760</td>\n",
       "      <td>685.0</td>\n",
       "      <td>801.0</td>\n",
       "      <td>2014</td>\n",
       "    </tr>\n",
       "    <tr>\n",
       "      <th>216</th>\n",
       "      <td>Oak Grove</td>\n",
       "      <td>KY</td>\n",
       "      <td>105.0</td>\n",
       "      <td>99.0</td>\n",
       "      <td>NaN</td>\n",
       "      <td>NaN</td>\n",
       "      <td>87.029289</td>\n",
       "      <td>NaN</td>\n",
       "      <td>NaN</td>\n",
       "      <td>84.747465</td>\n",
       "      <td>...</td>\n",
       "      <td>NaN</td>\n",
       "      <td>93400.0</td>\n",
       "      <td>93400.0</td>\n",
       "      <td>115200.0</td>\n",
       "      <td>824.0</td>\n",
       "      <td>801.0</td>\n",
       "      <td>0.760</td>\n",
       "      <td>686.0</td>\n",
       "      <td>804.0</td>\n",
       "      <td>2014</td>\n",
       "    </tr>\n",
       "    <tr>\n",
       "      <th>217</th>\n",
       "      <td>Oak Grove</td>\n",
       "      <td>KY</td>\n",
       "      <td>102.0</td>\n",
       "      <td>100.0</td>\n",
       "      <td>NaN</td>\n",
       "      <td>NaN</td>\n",
       "      <td>84.356542</td>\n",
       "      <td>NaN</td>\n",
       "      <td>NaN</td>\n",
       "      <td>84.510669</td>\n",
       "      <td>...</td>\n",
       "      <td>NaN</td>\n",
       "      <td>93600.0</td>\n",
       "      <td>93600.0</td>\n",
       "      <td>115300.0</td>\n",
       "      <td>827.0</td>\n",
       "      <td>803.0</td>\n",
       "      <td>0.762</td>\n",
       "      <td>689.0</td>\n",
       "      <td>807.0</td>\n",
       "      <td>2014</td>\n",
       "    </tr>\n",
       "  </tbody>\n",
       "</table>\n",
       "<p>5 rows × 82 columns</p>\n",
       "</div>"
      ],
      "text/plain": [
       "          City State  InventorySeasonallyAdjusted_AllHomes  \\\n",
       "213  Oak Grove    KY                                 119.0   \n",
       "214  Oak Grove    KY                                 108.0   \n",
       "215  Oak Grove    KY                                 105.0   \n",
       "216  Oak Grove    KY                                 105.0   \n",
       "217  Oak Grove    KY                                 102.0   \n",
       "\n",
       "     InventoryRaw_AllHomes  MedianListingPricePerSqft_1Bedroom  \\\n",
       "213                  119.0                                 NaN   \n",
       "214                  100.0                                 NaN   \n",
       "215                   98.0                                 NaN   \n",
       "216                   99.0                                 NaN   \n",
       "217                  100.0                                 NaN   \n",
       "\n",
       "     MedianListingPricePerSqft_2Bedroom  MedianListingPricePerSqft_3Bedroom  \\\n",
       "213                                 NaN                           87.412587   \n",
       "214                                 NaN                           85.374332   \n",
       "215                                 NaN                           88.211181   \n",
       "216                                 NaN                           87.029289   \n",
       "217                                 NaN                           84.356542   \n",
       "\n",
       "     MedianListingPricePerSqft_4Bedroom  \\\n",
       "213                                 NaN   \n",
       "214                                 NaN   \n",
       "215                                 NaN   \n",
       "216                                 NaN   \n",
       "217                                 NaN   \n",
       "\n",
       "     MedianListingPricePerSqft_5BedroomOrMore  \\\n",
       "213                                       NaN   \n",
       "214                                       NaN   \n",
       "215                                       NaN   \n",
       "216                                       NaN   \n",
       "217                                       NaN   \n",
       "\n",
       "     MedianListingPricePerSqft_AllHomes  ...   ZHVI_CondoCoop  \\\n",
       "213                           81.751055  ...              NaN   \n",
       "214                           81.818182  ...              NaN   \n",
       "215                           84.552846  ...              NaN   \n",
       "216                           84.747465  ...              NaN   \n",
       "217                           84.510669  ...              NaN   \n",
       "\n",
       "     ZHVI_MiddleTier  ZHVI_SingleFamilyResidence  ZHVI_TopTier  ZRI_AllHomes  \\\n",
       "213          92600.0                     92600.0      115900.0         819.0   \n",
       "214          92600.0                     92600.0      115600.0         821.0   \n",
       "215          92900.0                     92900.0      115200.0         823.0   \n",
       "216          93400.0                     93400.0      115200.0         824.0   \n",
       "217          93600.0                     93600.0      115300.0         827.0   \n",
       "\n",
       "     ZRI_AllHomesPlusMultifamily  ZriPerSqft_AllHomes  \\\n",
       "213                        792.0                0.754   \n",
       "214                        796.0                0.756   \n",
       "215                        798.0                0.760   \n",
       "216                        801.0                0.760   \n",
       "217                        803.0                0.762   \n",
       "\n",
       "     Zri_MultiFamilyResidenceRental  Zri_SingleFamilyResidenceRental  Year  \n",
       "213                           683.0                            795.0  2014  \n",
       "214                           684.0                            799.0  2014  \n",
       "215                           685.0                            801.0  2014  \n",
       "216                           686.0                            804.0  2014  \n",
       "217                           689.0                            807.0  2014  \n",
       "\n",
       "[5 rows x 82 columns]"
      ]
     },
     "execution_count": 68,
     "metadata": {},
     "output_type": "execute_result"
    }
   ],
   "source": [
    "city14_16.head()"
   ]
  },
  {
   "cell_type": "markdown",
   "metadata": {},
   "source": [
    "Each row is currently a single month of data for a city, but we need it to be aggregated by year to match up with the crime data which only has yearly totals per city. So we will group by city, state, and year then take mean values."
   ]
  },
  {
   "cell_type": "code",
   "execution_count": 69,
   "metadata": {
    "collapsed": false
   },
   "outputs": [],
   "source": [
    "city14_16 = city14_16.groupby(['City','State','Year']).mean().reset_index()"
   ]
  },
  {
   "cell_type": "markdown",
   "metadata": {},
   "source": [
    "Extra cleaning on 'City' column to ensure proper merging with the crime data below."
   ]
  },
  {
   "cell_type": "code",
   "execution_count": 70,
   "metadata": {
    "collapsed": true
   },
   "outputs": [],
   "source": [
    "city14_16['City'] = city14_16['City'].apply(lambda x:x.replace('Township',''))\n",
    "city14_16['City'] = city14_16['City'].apply(lambda x:x.rstrip(' '))"
   ]
  },
  {
   "cell_type": "markdown",
   "metadata": {},
   "source": [
    "## Load Crime Data"
   ]
  },
  {
   "cell_type": "code",
   "execution_count": 71,
   "metadata": {
    "collapsed": false
   },
   "outputs": [],
   "source": [
    "crime = pd.read_csv('crime14-16.csv')"
   ]
  },
  {
   "cell_type": "code",
   "execution_count": 72,
   "metadata": {
    "collapsed": true
   },
   "outputs": [],
   "source": [
    "crime['Year'] = crime['Year'].astype(str)"
   ]
  },
  {
   "cell_type": "code",
   "execution_count": 75,
   "metadata": {
    "collapsed": false
   },
   "outputs": [
    {
     "data": {
      "text/html": [
       "<div>\n",
       "<style>\n",
       "    .dataframe thead tr:only-child th {\n",
       "        text-align: right;\n",
       "    }\n",
       "\n",
       "    .dataframe thead th {\n",
       "        text-align: left;\n",
       "    }\n",
       "\n",
       "    .dataframe tbody tr th {\n",
       "        vertical-align: top;\n",
       "    }\n",
       "</style>\n",
       "<table border=\"1\" class=\"dataframe\">\n",
       "  <thead>\n",
       "    <tr style=\"text-align: right;\">\n",
       "      <th></th>\n",
       "      <th>State</th>\n",
       "      <th>City</th>\n",
       "      <th>Population</th>\n",
       "      <th>Violent\n",
       "crime</th>\n",
       "      <th>Murder and\n",
       "nonnegligent\n",
       "manslaughter</th>\n",
       "      <th>Rape\n",
       "(revised\n",
       "definition)1</th>\n",
       "      <th>Rape\n",
       "(legacy\n",
       "definition)2</th>\n",
       "      <th>Robbery</th>\n",
       "      <th>Aggravated\n",
       "assault</th>\n",
       "      <th>Property\n",
       "crime</th>\n",
       "      <th>Burglary</th>\n",
       "      <th>Larceny-\n",
       "theft</th>\n",
       "      <th>Motor\n",
       "vehicle\n",
       "theft</th>\n",
       "      <th>Arson</th>\n",
       "      <th>Year</th>\n",
       "    </tr>\n",
       "  </thead>\n",
       "  <tbody>\n",
       "    <tr>\n",
       "      <th>0</th>\n",
       "      <td>AL</td>\n",
       "      <td>Abbeville</td>\n",
       "      <td>2,643</td>\n",
       "      <td>8</td>\n",
       "      <td>0</td>\n",
       "      <td>1</td>\n",
       "      <td>NaN</td>\n",
       "      <td>0</td>\n",
       "      <td>7</td>\n",
       "      <td>85</td>\n",
       "      <td>22</td>\n",
       "      <td>52</td>\n",
       "      <td>11</td>\n",
       "      <td>NaN</td>\n",
       "      <td>2014</td>\n",
       "    </tr>\n",
       "    <tr>\n",
       "      <th>1</th>\n",
       "      <td>AL</td>\n",
       "      <td>Adamsville</td>\n",
       "      <td>4,430</td>\n",
       "      <td>30</td>\n",
       "      <td>0</td>\n",
       "      <td>5</td>\n",
       "      <td>NaN</td>\n",
       "      <td>6</td>\n",
       "      <td>19</td>\n",
       "      <td>373</td>\n",
       "      <td>43</td>\n",
       "      <td>321</td>\n",
       "      <td>9</td>\n",
       "      <td>NaN</td>\n",
       "      <td>2014</td>\n",
       "    </tr>\n",
       "    <tr>\n",
       "      <th>2</th>\n",
       "      <td>AL</td>\n",
       "      <td>Addison</td>\n",
       "      <td>747</td>\n",
       "      <td>1</td>\n",
       "      <td>0</td>\n",
       "      <td>0</td>\n",
       "      <td>NaN</td>\n",
       "      <td>0</td>\n",
       "      <td>1</td>\n",
       "      <td>31</td>\n",
       "      <td>6</td>\n",
       "      <td>22</td>\n",
       "      <td>3</td>\n",
       "      <td>NaN</td>\n",
       "      <td>2014</td>\n",
       "    </tr>\n",
       "    <tr>\n",
       "      <th>3</th>\n",
       "      <td>AL</td>\n",
       "      <td>Alabaster</td>\n",
       "      <td>31,568</td>\n",
       "      <td>58</td>\n",
       "      <td>1</td>\n",
       "      <td>9</td>\n",
       "      <td>NaN</td>\n",
       "      <td>11</td>\n",
       "      <td>37</td>\n",
       "      <td>612</td>\n",
       "      <td>68</td>\n",
       "      <td>526</td>\n",
       "      <td>18</td>\n",
       "      <td>NaN</td>\n",
       "      <td>2014</td>\n",
       "    </tr>\n",
       "    <tr>\n",
       "      <th>4</th>\n",
       "      <td>AL</td>\n",
       "      <td>Albertville</td>\n",
       "      <td>21,655</td>\n",
       "      <td>23</td>\n",
       "      <td>1</td>\n",
       "      <td>5</td>\n",
       "      <td>NaN</td>\n",
       "      <td>8</td>\n",
       "      <td>9</td>\n",
       "      <td>756</td>\n",
       "      <td>230</td>\n",
       "      <td>454</td>\n",
       "      <td>72</td>\n",
       "      <td>NaN</td>\n",
       "      <td>2014</td>\n",
       "    </tr>\n",
       "  </tbody>\n",
       "</table>\n",
       "</div>"
      ],
      "text/plain": [
       "  State         City Population Violent\\ncrime  \\\n",
       "0    AL    Abbeville      2,643              8   \n",
       "1    AL   Adamsville      4,430             30   \n",
       "2    AL      Addison        747              1   \n",
       "3    AL    Alabaster     31,568             58   \n",
       "4    AL  Albertville     21,655             23   \n",
       "\n",
       "   Murder and\\nnonnegligent\\nmanslaughter Rape\\n(revised\\ndefinition)1  \\\n",
       "0                                       0                            1   \n",
       "1                                       0                            5   \n",
       "2                                       0                            0   \n",
       "3                                       1                            9   \n",
       "4                                       1                            5   \n",
       "\n",
       "   Rape\\n(legacy\\ndefinition)2 Robbery Aggravated\\nassault Property\\ncrime  \\\n",
       "0                          NaN       0                   7              85   \n",
       "1                          NaN       6                  19             373   \n",
       "2                          NaN       0                   1              31   \n",
       "3                          NaN      11                  37             612   \n",
       "4                          NaN       8                   9             756   \n",
       "\n",
       "  Burglary Larceny-\\ntheft Motor\\nvehicle\\ntheft Arson  Year  \n",
       "0       22              52                    11   NaN  2014  \n",
       "1       43             321                     9   NaN  2014  \n",
       "2        6              22                     3   NaN  2014  \n",
       "3       68             526                    18   NaN  2014  \n",
       "4      230             454                    72   NaN  2014  "
      ]
     },
     "execution_count": 75,
     "metadata": {},
     "output_type": "execute_result"
    }
   ],
   "source": [
    "crime.head()"
   ]
  },
  {
   "cell_type": "markdown",
   "metadata": {},
   "source": [
    "Some cities in the data are labeled \"'city name', 'County name'\". This function drops the 'County name' and ',' for those cities that have it."
   ]
  },
  {
   "cell_type": "code",
   "execution_count": 73,
   "metadata": {
    "collapsed": true
   },
   "outputs": [],
   "source": [
    "def county_drop(x):\n",
    "    if 'County' in x:\n",
    "        y = x.rsplit(None, 2)[0]\n",
    "        return y.rstrip(', ')\n",
    "    else:\n",
    "        return x"
   ]
  },
  {
   "cell_type": "code",
   "execution_count": 74,
   "metadata": {
    "collapsed": false
   },
   "outputs": [],
   "source": [
    "crime['City'] = crime['City'].apply(lambda x:x.rstrip('0123456789'))\n",
    "crime['City'] = crime['City'].apply(county_drop)\n",
    "crime['City'] = crime['City'].apply(lambda x:x.replace('Township',''))\n",
    "crime['City'] = crime['City'].apply(lambda x:x.rstrip(' '))"
   ]
  },
  {
   "cell_type": "markdown",
   "metadata": {},
   "source": [
    "Because of the inconsistencies when reporting rape, we chose to drop those columns."
   ]
  },
  {
   "cell_type": "code",
   "execution_count": 77,
   "metadata": {
    "collapsed": true
   },
   "outputs": [],
   "source": [
    "crime.drop(['Rape\\n(revised\\ndefinition)1','Rape\\n(legacy\\ndefinition)2'], axis = 1, inplace = True)"
   ]
  },
  {
   "cell_type": "markdown",
   "metadata": {},
   "source": [
    "We need cities with non zero population values because we will divide the number of crimes by population to get crime rates."
   ]
  },
  {
   "cell_type": "code",
   "execution_count": 78,
   "metadata": {
    "collapsed": false
   },
   "outputs": [],
   "source": [
    "crime = crime[(crime.Population.notnull()) & (crime.Population != '0')]"
   ]
  },
  {
   "cell_type": "code",
   "execution_count": 80,
   "metadata": {
    "collapsed": false
   },
   "outputs": [],
   "source": [
    "crime.fillna(0, inplace = True)"
   ]
  },
  {
   "cell_type": "markdown",
   "metadata": {},
   "source": [
    "Rename columns"
   ]
  },
  {
   "cell_type": "code",
   "execution_count": 81,
   "metadata": {
    "collapsed": true
   },
   "outputs": [],
   "source": [
    "crime.columns = ['State', 'City', 'Population', 'Violent_crime','Murder','Robbery','Aggravated_assault',\n",
    "               'Property_crime','Burglary','Larceny_theft', 'Vehicle_theft', 'Arson', 'Year']"
   ]
  },
  {
   "cell_type": "markdown",
   "metadata": {},
   "source": [
    "Convert certain columns to numeric"
   ]
  },
  {
   "cell_type": "code",
   "execution_count": 82,
   "metadata": {
    "collapsed": false
   },
   "outputs": [],
   "source": [
    "crime['Population'] = crime['Population'].apply(lambda x: x.replace(',','')).apply(pd.to_numeric)\n",
    "crime['Violent_crime'] = crime['Violent_crime'].astype(str).apply(lambda x: x.replace(',','')).apply(pd.to_numeric)\n",
    "crime['Murder'] = crime['Murder'].astype(str).apply(lambda x: x.replace(',','')).apply(pd.to_numeric)\n",
    "crime['Robbery'] = crime['Robbery'].astype(str).apply(lambda x: x.replace(',','')).apply(pd.to_numeric)\n",
    "crime['Aggravated_assault'] = crime['Aggravated_assault'].astype(str).apply(lambda x: x.replace(',','')).apply(pd.to_numeric)\n",
    "crime['Property_crime'] = crime['Property_crime'].astype(str).apply(lambda x: x.replace(',','')).apply(pd.to_numeric)\n",
    "crime['Burglary'] = crime['Burglary'].astype(str).apply(lambda x: x.replace(',','')).apply(pd.to_numeric)\n",
    "crime['Larceny_theft'] = crime['Larceny_theft'].astype(str).apply(lambda x: x.replace(',','')).apply(pd.to_numeric)\n",
    "crime['Vehicle_theft'] = crime['Vehicle_theft'].astype(str).apply(lambda x: x.replace(',','')).apply(pd.to_numeric)\n",
    "crime['Arson'] = crime['Arson'].astype(str).apply(lambda x: x.replace(',','')).apply(pd.to_numeric)"
   ]
  },
  {
   "cell_type": "markdown",
   "metadata": {},
   "source": [
    "Add columns for rate of crime per 10,000 people"
   ]
  },
  {
   "cell_type": "code",
   "execution_count": 83,
   "metadata": {
    "collapsed": false
   },
   "outputs": [],
   "source": [
    "crime['Violent_crime_rate'] = (crime['Violent_crime']/crime.Population)*10000\n",
    "crime['Murder_rate'] = (crime['Murder']/crime.Population)*10000\n",
    "crime['Robbery_rate'] = (crime['Robbery']/crime.Population)*10000\n",
    "crime['Aggravated_assault_rate'] = (crime['Aggravated_assault']/crime.Population)*10000\n",
    "crime['Property_crime_rate'] = (crime['Property_crime']/crime.Population)*10000\n",
    "crime['Burglary_rate'] = (crime['Burglary']/crime.Population)*10000\n",
    "crime['Larceny_theft_rate'] = (crime['Larceny_theft']/crime.Population)*10000\n",
    "crime['Vehicle_theft_rate'] = (crime['Vehicle_theft']/crime.Population)*10000\n",
    "crime['Arson_rate'] = (crime['Arson']/crime.Population)*10000"
   ]
  },
  {
   "cell_type": "markdown",
   "metadata": {},
   "source": [
    "We want to find the average crime rate for each state and add that as a new column to each row of city data. We will then be able to compare if a city has more or less crime than the average crime for the state in which that city resides."
   ]
  },
  {
   "cell_type": "code",
   "execution_count": 84,
   "metadata": {
    "collapsed": true
   },
   "outputs": [],
   "source": [
    "crime['avg_crime'] = crime[['Violent_crime_rate', 'Property_crime_rate']].mean(axis=1)"
   ]
  },
  {
   "cell_type": "code",
   "execution_count": 85,
   "metadata": {
    "collapsed": false
   },
   "outputs": [],
   "source": [
    "state_avg_crime = crime.groupby(['State','Year'])['avg_crime'].mean().reset_index().rename(columns={\n",
    "        'avg_crime':'State_avg_crime_rate'})"
   ]
  },
  {
   "cell_type": "code",
   "execution_count": 88,
   "metadata": {
    "collapsed": false
   },
   "outputs": [
    {
     "data": {
      "text/html": [
       "<div>\n",
       "<style>\n",
       "    .dataframe thead tr:only-child th {\n",
       "        text-align: right;\n",
       "    }\n",
       "\n",
       "    .dataframe thead th {\n",
       "        text-align: left;\n",
       "    }\n",
       "\n",
       "    .dataframe tbody tr th {\n",
       "        vertical-align: top;\n",
       "    }\n",
       "</style>\n",
       "<table border=\"1\" class=\"dataframe\">\n",
       "  <thead>\n",
       "    <tr style=\"text-align: right;\">\n",
       "      <th></th>\n",
       "      <th>State</th>\n",
       "      <th>Year</th>\n",
       "      <th>State_avg_crime_rate</th>\n",
       "    </tr>\n",
       "  </thead>\n",
       "  <tbody>\n",
       "    <tr>\n",
       "      <th>0</th>\n",
       "      <td>AK</td>\n",
       "      <td>2014</td>\n",
       "      <td>165.400571</td>\n",
       "    </tr>\n",
       "    <tr>\n",
       "      <th>1</th>\n",
       "      <td>AK</td>\n",
       "      <td>2015</td>\n",
       "      <td>168.146621</td>\n",
       "    </tr>\n",
       "    <tr>\n",
       "      <th>2</th>\n",
       "      <td>AK</td>\n",
       "      <td>2016</td>\n",
       "      <td>177.270966</td>\n",
       "    </tr>\n",
       "    <tr>\n",
       "      <th>3</th>\n",
       "      <td>AL</td>\n",
       "      <td>2014</td>\n",
       "      <td>209.042392</td>\n",
       "    </tr>\n",
       "    <tr>\n",
       "      <th>4</th>\n",
       "      <td>AL</td>\n",
       "      <td>2015</td>\n",
       "      <td>203.809278</td>\n",
       "    </tr>\n",
       "  </tbody>\n",
       "</table>\n",
       "</div>"
      ],
      "text/plain": [
       "  State  Year  State_avg_crime_rate\n",
       "0    AK  2014            165.400571\n",
       "1    AK  2015            168.146621\n",
       "2    AK  2016            177.270966\n",
       "3    AL  2014            209.042392\n",
       "4    AL  2015            203.809278"
      ]
     },
     "execution_count": 88,
     "metadata": {},
     "output_type": "execute_result"
    }
   ],
   "source": [
    "state_avg_crime.head()"
   ]
  },
  {
   "cell_type": "code",
   "execution_count": 86,
   "metadata": {
    "collapsed": true
   },
   "outputs": [],
   "source": [
    "crime = crime.merge(state_avg_crime, right_on = ['State','Year'],left_on = ['State','Year'], how = 'left')"
   ]
  },
  {
   "cell_type": "code",
   "execution_count": 87,
   "metadata": {
    "collapsed": false
   },
   "outputs": [],
   "source": [
    "crime['above_avg_crime'] = (crime.avg_crime>crime.State_avg_crime_rate)*1.0"
   ]
  },
  {
   "cell_type": "code",
   "execution_count": 89,
   "metadata": {
    "collapsed": false
   },
   "outputs": [
    {
     "data": {
      "text/html": [
       "<div>\n",
       "<style>\n",
       "    .dataframe thead tr:only-child th {\n",
       "        text-align: right;\n",
       "    }\n",
       "\n",
       "    .dataframe thead th {\n",
       "        text-align: left;\n",
       "    }\n",
       "\n",
       "    .dataframe tbody tr th {\n",
       "        vertical-align: top;\n",
       "    }\n",
       "</style>\n",
       "<table border=\"1\" class=\"dataframe\">\n",
       "  <thead>\n",
       "    <tr style=\"text-align: right;\">\n",
       "      <th></th>\n",
       "      <th>State</th>\n",
       "      <th>City</th>\n",
       "      <th>Population</th>\n",
       "      <th>Violent_crime</th>\n",
       "      <th>Murder</th>\n",
       "      <th>Robbery</th>\n",
       "      <th>Aggravated_assault</th>\n",
       "      <th>Property_crime</th>\n",
       "      <th>Burglary</th>\n",
       "      <th>Larceny_theft</th>\n",
       "      <th>...</th>\n",
       "      <th>Robbery_rate</th>\n",
       "      <th>Aggravated_assault_rate</th>\n",
       "      <th>Property_crime_rate</th>\n",
       "      <th>Burglary_rate</th>\n",
       "      <th>Larceny_theft_rate</th>\n",
       "      <th>Vehicle_theft_rate</th>\n",
       "      <th>Arson_rate</th>\n",
       "      <th>avg_crime</th>\n",
       "      <th>State_avg_crime_rate</th>\n",
       "      <th>above_avg_crime</th>\n",
       "    </tr>\n",
       "  </thead>\n",
       "  <tbody>\n",
       "    <tr>\n",
       "      <th>0</th>\n",
       "      <td>AL</td>\n",
       "      <td>Abbeville</td>\n",
       "      <td>2643</td>\n",
       "      <td>8</td>\n",
       "      <td>0</td>\n",
       "      <td>0</td>\n",
       "      <td>7</td>\n",
       "      <td>85</td>\n",
       "      <td>22</td>\n",
       "      <td>52</td>\n",
       "      <td>...</td>\n",
       "      <td>0.000000</td>\n",
       "      <td>26.485055</td>\n",
       "      <td>321.604238</td>\n",
       "      <td>83.238744</td>\n",
       "      <td>196.746122</td>\n",
       "      <td>41.619372</td>\n",
       "      <td>0.0</td>\n",
       "      <td>175.936436</td>\n",
       "      <td>209.042392</td>\n",
       "      <td>0.0</td>\n",
       "    </tr>\n",
       "    <tr>\n",
       "      <th>1</th>\n",
       "      <td>AL</td>\n",
       "      <td>Adamsville</td>\n",
       "      <td>4430</td>\n",
       "      <td>30</td>\n",
       "      <td>0</td>\n",
       "      <td>6</td>\n",
       "      <td>19</td>\n",
       "      <td>373</td>\n",
       "      <td>43</td>\n",
       "      <td>321</td>\n",
       "      <td>...</td>\n",
       "      <td>13.544018</td>\n",
       "      <td>42.889391</td>\n",
       "      <td>841.986456</td>\n",
       "      <td>97.065463</td>\n",
       "      <td>724.604966</td>\n",
       "      <td>20.316027</td>\n",
       "      <td>0.0</td>\n",
       "      <td>454.853273</td>\n",
       "      <td>209.042392</td>\n",
       "      <td>1.0</td>\n",
       "    </tr>\n",
       "    <tr>\n",
       "      <th>2</th>\n",
       "      <td>AL</td>\n",
       "      <td>Addison</td>\n",
       "      <td>747</td>\n",
       "      <td>1</td>\n",
       "      <td>0</td>\n",
       "      <td>0</td>\n",
       "      <td>1</td>\n",
       "      <td>31</td>\n",
       "      <td>6</td>\n",
       "      <td>22</td>\n",
       "      <td>...</td>\n",
       "      <td>0.000000</td>\n",
       "      <td>13.386881</td>\n",
       "      <td>414.993307</td>\n",
       "      <td>80.321285</td>\n",
       "      <td>294.511379</td>\n",
       "      <td>40.160643</td>\n",
       "      <td>0.0</td>\n",
       "      <td>214.190094</td>\n",
       "      <td>209.042392</td>\n",
       "      <td>1.0</td>\n",
       "    </tr>\n",
       "    <tr>\n",
       "      <th>3</th>\n",
       "      <td>AL</td>\n",
       "      <td>Alabaster</td>\n",
       "      <td>31568</td>\n",
       "      <td>58</td>\n",
       "      <td>1</td>\n",
       "      <td>11</td>\n",
       "      <td>37</td>\n",
       "      <td>612</td>\n",
       "      <td>68</td>\n",
       "      <td>526</td>\n",
       "      <td>...</td>\n",
       "      <td>3.484541</td>\n",
       "      <td>11.720730</td>\n",
       "      <td>193.867207</td>\n",
       "      <td>21.540801</td>\n",
       "      <td>166.624430</td>\n",
       "      <td>5.701977</td>\n",
       "      <td>0.0</td>\n",
       "      <td>106.120122</td>\n",
       "      <td>209.042392</td>\n",
       "      <td>0.0</td>\n",
       "    </tr>\n",
       "    <tr>\n",
       "      <th>4</th>\n",
       "      <td>AL</td>\n",
       "      <td>Albertville</td>\n",
       "      <td>21655</td>\n",
       "      <td>23</td>\n",
       "      <td>1</td>\n",
       "      <td>8</td>\n",
       "      <td>9</td>\n",
       "      <td>756</td>\n",
       "      <td>230</td>\n",
       "      <td>454</td>\n",
       "      <td>...</td>\n",
       "      <td>3.694297</td>\n",
       "      <td>4.156084</td>\n",
       "      <td>349.111060</td>\n",
       "      <td>106.211037</td>\n",
       "      <td>209.651351</td>\n",
       "      <td>33.248672</td>\n",
       "      <td>0.0</td>\n",
       "      <td>179.866082</td>\n",
       "      <td>209.042392</td>\n",
       "      <td>0.0</td>\n",
       "    </tr>\n",
       "  </tbody>\n",
       "</table>\n",
       "<p>5 rows × 25 columns</p>\n",
       "</div>"
      ],
      "text/plain": [
       "  State         City  Population  Violent_crime  Murder  Robbery  \\\n",
       "0    AL    Abbeville        2643              8       0        0   \n",
       "1    AL   Adamsville        4430             30       0        6   \n",
       "2    AL      Addison         747              1       0        0   \n",
       "3    AL    Alabaster       31568             58       1       11   \n",
       "4    AL  Albertville       21655             23       1        8   \n",
       "\n",
       "   Aggravated_assault  Property_crime  Burglary  Larceny_theft  \\\n",
       "0                   7              85        22             52   \n",
       "1                  19             373        43            321   \n",
       "2                   1              31         6             22   \n",
       "3                  37             612        68            526   \n",
       "4                   9             756       230            454   \n",
       "\n",
       "        ...         Robbery_rate  Aggravated_assault_rate Property_crime_rate  \\\n",
       "0       ...             0.000000                26.485055          321.604238   \n",
       "1       ...            13.544018                42.889391          841.986456   \n",
       "2       ...             0.000000                13.386881          414.993307   \n",
       "3       ...             3.484541                11.720730          193.867207   \n",
       "4       ...             3.694297                 4.156084          349.111060   \n",
       "\n",
       "   Burglary_rate  Larceny_theft_rate  Vehicle_theft_rate  Arson_rate  \\\n",
       "0      83.238744          196.746122           41.619372         0.0   \n",
       "1      97.065463          724.604966           20.316027         0.0   \n",
       "2      80.321285          294.511379           40.160643         0.0   \n",
       "3      21.540801          166.624430            5.701977         0.0   \n",
       "4     106.211037          209.651351           33.248672         0.0   \n",
       "\n",
       "    avg_crime  State_avg_crime_rate  above_avg_crime  \n",
       "0  175.936436            209.042392              0.0  \n",
       "1  454.853273            209.042392              1.0  \n",
       "2  214.190094            209.042392              1.0  \n",
       "3  106.120122            209.042392              0.0  \n",
       "4  179.866082            209.042392              0.0  \n",
       "\n",
       "[5 rows x 25 columns]"
      ]
     },
     "execution_count": 89,
     "metadata": {},
     "output_type": "execute_result"
    }
   ],
   "source": [
    "crime.head()"
   ]
  },
  {
   "cell_type": "markdown",
   "metadata": {},
   "source": [
    "## Merge Crime with Real Estate Data"
   ]
  },
  {
   "cell_type": "code",
   "execution_count": 95,
   "metadata": {
    "collapsed": false
   },
   "outputs": [],
   "source": [
    "city_with_crime = city14_16.merge(crime, left_on = ['City','State','Year'], right_on = ['City','State','Year'], how = 'right')"
   ]
  },
  {
   "cell_type": "code",
   "execution_count": 96,
   "metadata": {
    "collapsed": false
   },
   "outputs": [
    {
     "data": {
      "text/html": [
       "<div>\n",
       "<style>\n",
       "    .dataframe thead tr:only-child th {\n",
       "        text-align: right;\n",
       "    }\n",
       "\n",
       "    .dataframe thead th {\n",
       "        text-align: left;\n",
       "    }\n",
       "\n",
       "    .dataframe tbody tr th {\n",
       "        vertical-align: top;\n",
       "    }\n",
       "</style>\n",
       "<table border=\"1\" class=\"dataframe\">\n",
       "  <thead>\n",
       "    <tr style=\"text-align: right;\">\n",
       "      <th></th>\n",
       "      <th>City</th>\n",
       "      <th>State</th>\n",
       "      <th>Year</th>\n",
       "      <th>InventorySeasonallyAdjusted_AllHomes</th>\n",
       "      <th>InventoryRaw_AllHomes</th>\n",
       "      <th>MedianListingPricePerSqft_1Bedroom</th>\n",
       "      <th>MedianListingPricePerSqft_2Bedroom</th>\n",
       "      <th>MedianListingPricePerSqft_3Bedroom</th>\n",
       "      <th>MedianListingPricePerSqft_4Bedroom</th>\n",
       "      <th>MedianListingPricePerSqft_5BedroomOrMore</th>\n",
       "      <th>...</th>\n",
       "      <th>Robbery_rate</th>\n",
       "      <th>Aggravated_assault_rate</th>\n",
       "      <th>Property_crime_rate</th>\n",
       "      <th>Burglary_rate</th>\n",
       "      <th>Larceny_theft_rate</th>\n",
       "      <th>Vehicle_theft_rate</th>\n",
       "      <th>Arson_rate</th>\n",
       "      <th>avg_crime</th>\n",
       "      <th>State_avg_crime_rate</th>\n",
       "      <th>above_avg_crime</th>\n",
       "    </tr>\n",
       "  </thead>\n",
       "  <tbody>\n",
       "    <tr>\n",
       "      <th>0</th>\n",
       "      <td>Abbeville</td>\n",
       "      <td>AL</td>\n",
       "      <td>2014</td>\n",
       "      <td>97.416667</td>\n",
       "      <td>97.333333</td>\n",
       "      <td>NaN</td>\n",
       "      <td>NaN</td>\n",
       "      <td>NaN</td>\n",
       "      <td>NaN</td>\n",
       "      <td>NaN</td>\n",
       "      <td>...</td>\n",
       "      <td>0.000000</td>\n",
       "      <td>26.485055</td>\n",
       "      <td>321.604238</td>\n",
       "      <td>83.238744</td>\n",
       "      <td>196.746122</td>\n",
       "      <td>41.619372</td>\n",
       "      <td>0.00000</td>\n",
       "      <td>175.936436</td>\n",
       "      <td>209.042392</td>\n",
       "      <td>0.0</td>\n",
       "    </tr>\n",
       "    <tr>\n",
       "      <th>1</th>\n",
       "      <td>Abbeville</td>\n",
       "      <td>AL</td>\n",
       "      <td>2015</td>\n",
       "      <td>107.416667</td>\n",
       "      <td>107.416667</td>\n",
       "      <td>NaN</td>\n",
       "      <td>NaN</td>\n",
       "      <td>106.239666</td>\n",
       "      <td>NaN</td>\n",
       "      <td>NaN</td>\n",
       "      <td>...</td>\n",
       "      <td>0.000000</td>\n",
       "      <td>22.988506</td>\n",
       "      <td>291.187739</td>\n",
       "      <td>91.954023</td>\n",
       "      <td>191.570881</td>\n",
       "      <td>7.662835</td>\n",
       "      <td>0.00000</td>\n",
       "      <td>162.835249</td>\n",
       "      <td>203.809278</td>\n",
       "      <td>0.0</td>\n",
       "    </tr>\n",
       "    <tr>\n",
       "      <th>2</th>\n",
       "      <td>Abbeville</td>\n",
       "      <td>AL</td>\n",
       "      <td>2016</td>\n",
       "      <td>108.666667</td>\n",
       "      <td>108.833333</td>\n",
       "      <td>NaN</td>\n",
       "      <td>NaN</td>\n",
       "      <td>106.948524</td>\n",
       "      <td>NaN</td>\n",
       "      <td>NaN</td>\n",
       "      <td>...</td>\n",
       "      <td>0.000000</td>\n",
       "      <td>38.343558</td>\n",
       "      <td>195.552147</td>\n",
       "      <td>46.012270</td>\n",
       "      <td>130.368098</td>\n",
       "      <td>19.171779</td>\n",
       "      <td>0.00000</td>\n",
       "      <td>118.865031</td>\n",
       "      <td>198.847519</td>\n",
       "      <td>0.0</td>\n",
       "    </tr>\n",
       "    <tr>\n",
       "      <th>3</th>\n",
       "      <td>Abbeville</td>\n",
       "      <td>LA</td>\n",
       "      <td>2014</td>\n",
       "      <td>NaN</td>\n",
       "      <td>NaN</td>\n",
       "      <td>NaN</td>\n",
       "      <td>NaN</td>\n",
       "      <td>NaN</td>\n",
       "      <td>NaN</td>\n",
       "      <td>NaN</td>\n",
       "      <td>...</td>\n",
       "      <td>20.818320</td>\n",
       "      <td>72.864120</td>\n",
       "      <td>431.579790</td>\n",
       "      <td>170.550084</td>\n",
       "      <td>246.617023</td>\n",
       "      <td>14.412683</td>\n",
       "      <td>0.00000</td>\n",
       "      <td>267.435343</td>\n",
       "      <td>201.387931</td>\n",
       "      <td>1.0</td>\n",
       "    </tr>\n",
       "    <tr>\n",
       "      <th>4</th>\n",
       "      <td>Abbeville</td>\n",
       "      <td>LA</td>\n",
       "      <td>2015</td>\n",
       "      <td>NaN</td>\n",
       "      <td>NaN</td>\n",
       "      <td>NaN</td>\n",
       "      <td>NaN</td>\n",
       "      <td>NaN</td>\n",
       "      <td>NaN</td>\n",
       "      <td>NaN</td>\n",
       "      <td>...</td>\n",
       "      <td>16.006403</td>\n",
       "      <td>93.637455</td>\n",
       "      <td>496.198479</td>\n",
       "      <td>144.057623</td>\n",
       "      <td>344.937975</td>\n",
       "      <td>7.202881</td>\n",
       "      <td>0.80032</td>\n",
       "      <td>306.522609</td>\n",
       "      <td>191.952795</td>\n",
       "      <td>1.0</td>\n",
       "    </tr>\n",
       "  </tbody>\n",
       "</table>\n",
       "<p>5 rows × 104 columns</p>\n",
       "</div>"
      ],
      "text/plain": [
       "        City State  Year  InventorySeasonallyAdjusted_AllHomes  \\\n",
       "0  Abbeville    AL  2014                             97.416667   \n",
       "1  Abbeville    AL  2015                            107.416667   \n",
       "2  Abbeville    AL  2016                            108.666667   \n",
       "3  Abbeville    LA  2014                                   NaN   \n",
       "4  Abbeville    LA  2015                                   NaN   \n",
       "\n",
       "   InventoryRaw_AllHomes  MedianListingPricePerSqft_1Bedroom  \\\n",
       "0              97.333333                                 NaN   \n",
       "1             107.416667                                 NaN   \n",
       "2             108.833333                                 NaN   \n",
       "3                    NaN                                 NaN   \n",
       "4                    NaN                                 NaN   \n",
       "\n",
       "   MedianListingPricePerSqft_2Bedroom  MedianListingPricePerSqft_3Bedroom  \\\n",
       "0                                 NaN                                 NaN   \n",
       "1                                 NaN                          106.239666   \n",
       "2                                 NaN                          106.948524   \n",
       "3                                 NaN                                 NaN   \n",
       "4                                 NaN                                 NaN   \n",
       "\n",
       "   MedianListingPricePerSqft_4Bedroom  \\\n",
       "0                                 NaN   \n",
       "1                                 NaN   \n",
       "2                                 NaN   \n",
       "3                                 NaN   \n",
       "4                                 NaN   \n",
       "\n",
       "   MedianListingPricePerSqft_5BedroomOrMore       ...         Robbery_rate  \\\n",
       "0                                       NaN       ...             0.000000   \n",
       "1                                       NaN       ...             0.000000   \n",
       "2                                       NaN       ...             0.000000   \n",
       "3                                       NaN       ...            20.818320   \n",
       "4                                       NaN       ...            16.006403   \n",
       "\n",
       "   Aggravated_assault_rate  Property_crime_rate  Burglary_rate  \\\n",
       "0                26.485055           321.604238      83.238744   \n",
       "1                22.988506           291.187739      91.954023   \n",
       "2                38.343558           195.552147      46.012270   \n",
       "3                72.864120           431.579790     170.550084   \n",
       "4                93.637455           496.198479     144.057623   \n",
       "\n",
       "   Larceny_theft_rate  Vehicle_theft_rate  Arson_rate   avg_crime  \\\n",
       "0          196.746122           41.619372     0.00000  175.936436   \n",
       "1          191.570881            7.662835     0.00000  162.835249   \n",
       "2          130.368098           19.171779     0.00000  118.865031   \n",
       "3          246.617023           14.412683     0.00000  267.435343   \n",
       "4          344.937975            7.202881     0.80032  306.522609   \n",
       "\n",
       "   State_avg_crime_rate  above_avg_crime  \n",
       "0            209.042392              0.0  \n",
       "1            203.809278              0.0  \n",
       "2            198.847519              0.0  \n",
       "3            201.387931              1.0  \n",
       "4            191.952795              1.0  \n",
       "\n",
       "[5 rows x 104 columns]"
      ]
     },
     "execution_count": 96,
     "metadata": {},
     "output_type": "execute_result"
    }
   ],
   "source": [
    "city_with_crime.head()"
   ]
  },
  {
   "cell_type": "markdown",
   "metadata": {},
   "source": [
    "Similarly, we want to find the average home value for each state and add that as a new column to each row of city data. We will then be able to compare if a city has a higher or lower average home value than the average home value for the state in which that city resides."
   ]
  },
  {
   "cell_type": "code",
   "execution_count": 111,
   "metadata": {
    "collapsed": false
   },
   "outputs": [],
   "source": [
    "avg_HV_by_state = city_with_crime.groupby(['State','Year'])['ZHVI_AllHomes'].median().reset_index()"
   ]
  },
  {
   "cell_type": "code",
   "execution_count": 112,
   "metadata": {
    "collapsed": true
   },
   "outputs": [],
   "source": [
    "avg_HV_by_state.columns = ['State','Year','State_avg_home_value']"
   ]
  },
  {
   "cell_type": "code",
   "execution_count": 113,
   "metadata": {
    "collapsed": false
   },
   "outputs": [
    {
     "data": {
      "text/html": [
       "<div>\n",
       "<style>\n",
       "    .dataframe thead tr:only-child th {\n",
       "        text-align: right;\n",
       "    }\n",
       "\n",
       "    .dataframe thead th {\n",
       "        text-align: left;\n",
       "    }\n",
       "\n",
       "    .dataframe tbody tr th {\n",
       "        vertical-align: top;\n",
       "    }\n",
       "</style>\n",
       "<table border=\"1\" class=\"dataframe\">\n",
       "  <thead>\n",
       "    <tr style=\"text-align: right;\">\n",
       "      <th></th>\n",
       "      <th>State</th>\n",
       "      <th>Year</th>\n",
       "      <th>State_avg_home_value</th>\n",
       "    </tr>\n",
       "  </thead>\n",
       "  <tbody>\n",
       "    <tr>\n",
       "      <th>0</th>\n",
       "      <td>AK</td>\n",
       "      <td>2014</td>\n",
       "      <td>206750.000000</td>\n",
       "    </tr>\n",
       "    <tr>\n",
       "      <th>1</th>\n",
       "      <td>AK</td>\n",
       "      <td>2015</td>\n",
       "      <td>205916.666667</td>\n",
       "    </tr>\n",
       "    <tr>\n",
       "      <th>2</th>\n",
       "      <td>AK</td>\n",
       "      <td>2016</td>\n",
       "      <td>212866.666667</td>\n",
       "    </tr>\n",
       "    <tr>\n",
       "      <th>3</th>\n",
       "      <td>AL</td>\n",
       "      <td>2014</td>\n",
       "      <td>118775.000000</td>\n",
       "    </tr>\n",
       "    <tr>\n",
       "      <th>4</th>\n",
       "      <td>AL</td>\n",
       "      <td>2015</td>\n",
       "      <td>123387.500000</td>\n",
       "    </tr>\n",
       "  </tbody>\n",
       "</table>\n",
       "</div>"
      ],
      "text/plain": [
       "  State  Year  State_avg_home_value\n",
       "0    AK  2014         206750.000000\n",
       "1    AK  2015         205916.666667\n",
       "2    AK  2016         212866.666667\n",
       "3    AL  2014         118775.000000\n",
       "4    AL  2015         123387.500000"
      ]
     },
     "execution_count": 113,
     "metadata": {},
     "output_type": "execute_result"
    }
   ],
   "source": [
    "avg_HV_by_state.head()"
   ]
  },
  {
   "cell_type": "code",
   "execution_count": 114,
   "metadata": {
    "collapsed": true
   },
   "outputs": [],
   "source": [
    "city_with_crime = city_with_crime.merge(\n",
    "    avg_HV_by_state, right_on = ['State','Year'], left_on = ['State','Year'], how = 'left')"
   ]
  },
  {
   "cell_type": "code",
   "execution_count": 115,
   "metadata": {
    "collapsed": false
   },
   "outputs": [],
   "source": [
    "city_with_crime['above_avg_HV'] = (city_with_crime.ZHVI_AllHomes>city_with_crime.State_avg_home_value)*1.0"
   ]
  },
  {
   "cell_type": "code",
   "execution_count": 116,
   "metadata": {
    "collapsed": false
   },
   "outputs": [
    {
     "data": {
      "text/html": [
       "<div>\n",
       "<style>\n",
       "    .dataframe thead tr:only-child th {\n",
       "        text-align: right;\n",
       "    }\n",
       "\n",
       "    .dataframe thead th {\n",
       "        text-align: left;\n",
       "    }\n",
       "\n",
       "    .dataframe tbody tr th {\n",
       "        vertical-align: top;\n",
       "    }\n",
       "</style>\n",
       "<table border=\"1\" class=\"dataframe\">\n",
       "  <thead>\n",
       "    <tr style=\"text-align: right;\">\n",
       "      <th></th>\n",
       "      <th>City</th>\n",
       "      <th>State</th>\n",
       "      <th>Year</th>\n",
       "      <th>InventorySeasonallyAdjusted_AllHomes</th>\n",
       "      <th>InventoryRaw_AllHomes</th>\n",
       "      <th>MedianListingPricePerSqft_1Bedroom</th>\n",
       "      <th>MedianListingPricePerSqft_2Bedroom</th>\n",
       "      <th>MedianListingPricePerSqft_3Bedroom</th>\n",
       "      <th>MedianListingPricePerSqft_4Bedroom</th>\n",
       "      <th>MedianListingPricePerSqft_5BedroomOrMore</th>\n",
       "      <th>...</th>\n",
       "      <th>Property_crime_rate</th>\n",
       "      <th>Burglary_rate</th>\n",
       "      <th>Larceny_theft_rate</th>\n",
       "      <th>Vehicle_theft_rate</th>\n",
       "      <th>Arson_rate</th>\n",
       "      <th>avg_crime</th>\n",
       "      <th>State_avg_crime_rate</th>\n",
       "      <th>above_avg_crime</th>\n",
       "      <th>State_avg_home_value</th>\n",
       "      <th>above_avg_HV</th>\n",
       "    </tr>\n",
       "  </thead>\n",
       "  <tbody>\n",
       "    <tr>\n",
       "      <th>0</th>\n",
       "      <td>Abbeville</td>\n",
       "      <td>AL</td>\n",
       "      <td>2014</td>\n",
       "      <td>97.416667</td>\n",
       "      <td>97.333333</td>\n",
       "      <td>NaN</td>\n",
       "      <td>NaN</td>\n",
       "      <td>NaN</td>\n",
       "      <td>NaN</td>\n",
       "      <td>NaN</td>\n",
       "      <td>...</td>\n",
       "      <td>321.604238</td>\n",
       "      <td>83.238744</td>\n",
       "      <td>196.746122</td>\n",
       "      <td>41.619372</td>\n",
       "      <td>0.00000</td>\n",
       "      <td>175.936436</td>\n",
       "      <td>209.042392</td>\n",
       "      <td>0.0</td>\n",
       "      <td>118775.000000</td>\n",
       "      <td>0.0</td>\n",
       "    </tr>\n",
       "    <tr>\n",
       "      <th>1</th>\n",
       "      <td>Abbeville</td>\n",
       "      <td>AL</td>\n",
       "      <td>2015</td>\n",
       "      <td>107.416667</td>\n",
       "      <td>107.416667</td>\n",
       "      <td>NaN</td>\n",
       "      <td>NaN</td>\n",
       "      <td>106.239666</td>\n",
       "      <td>NaN</td>\n",
       "      <td>NaN</td>\n",
       "      <td>...</td>\n",
       "      <td>291.187739</td>\n",
       "      <td>91.954023</td>\n",
       "      <td>191.570881</td>\n",
       "      <td>7.662835</td>\n",
       "      <td>0.00000</td>\n",
       "      <td>162.835249</td>\n",
       "      <td>203.809278</td>\n",
       "      <td>0.0</td>\n",
       "      <td>123387.500000</td>\n",
       "      <td>0.0</td>\n",
       "    </tr>\n",
       "    <tr>\n",
       "      <th>2</th>\n",
       "      <td>Abbeville</td>\n",
       "      <td>AL</td>\n",
       "      <td>2016</td>\n",
       "      <td>108.666667</td>\n",
       "      <td>108.833333</td>\n",
       "      <td>NaN</td>\n",
       "      <td>NaN</td>\n",
       "      <td>106.948524</td>\n",
       "      <td>NaN</td>\n",
       "      <td>NaN</td>\n",
       "      <td>...</td>\n",
       "      <td>195.552147</td>\n",
       "      <td>46.012270</td>\n",
       "      <td>130.368098</td>\n",
       "      <td>19.171779</td>\n",
       "      <td>0.00000</td>\n",
       "      <td>118.865031</td>\n",
       "      <td>198.847519</td>\n",
       "      <td>0.0</td>\n",
       "      <td>126316.666667</td>\n",
       "      <td>0.0</td>\n",
       "    </tr>\n",
       "    <tr>\n",
       "      <th>3</th>\n",
       "      <td>Abbeville</td>\n",
       "      <td>LA</td>\n",
       "      <td>2014</td>\n",
       "      <td>NaN</td>\n",
       "      <td>NaN</td>\n",
       "      <td>NaN</td>\n",
       "      <td>NaN</td>\n",
       "      <td>NaN</td>\n",
       "      <td>NaN</td>\n",
       "      <td>NaN</td>\n",
       "      <td>...</td>\n",
       "      <td>431.579790</td>\n",
       "      <td>170.550084</td>\n",
       "      <td>246.617023</td>\n",
       "      <td>14.412683</td>\n",
       "      <td>0.00000</td>\n",
       "      <td>267.435343</td>\n",
       "      <td>201.387931</td>\n",
       "      <td>1.0</td>\n",
       "      <td>120025.000000</td>\n",
       "      <td>0.0</td>\n",
       "    </tr>\n",
       "    <tr>\n",
       "      <th>4</th>\n",
       "      <td>Abbeville</td>\n",
       "      <td>LA</td>\n",
       "      <td>2015</td>\n",
       "      <td>NaN</td>\n",
       "      <td>NaN</td>\n",
       "      <td>NaN</td>\n",
       "      <td>NaN</td>\n",
       "      <td>NaN</td>\n",
       "      <td>NaN</td>\n",
       "      <td>NaN</td>\n",
       "      <td>...</td>\n",
       "      <td>496.198479</td>\n",
       "      <td>144.057623</td>\n",
       "      <td>344.937975</td>\n",
       "      <td>7.202881</td>\n",
       "      <td>0.80032</td>\n",
       "      <td>306.522609</td>\n",
       "      <td>191.952795</td>\n",
       "      <td>1.0</td>\n",
       "      <td>125275.000000</td>\n",
       "      <td>0.0</td>\n",
       "    </tr>\n",
       "  </tbody>\n",
       "</table>\n",
       "<p>5 rows × 106 columns</p>\n",
       "</div>"
      ],
      "text/plain": [
       "        City State  Year  InventorySeasonallyAdjusted_AllHomes  \\\n",
       "0  Abbeville    AL  2014                             97.416667   \n",
       "1  Abbeville    AL  2015                            107.416667   \n",
       "2  Abbeville    AL  2016                            108.666667   \n",
       "3  Abbeville    LA  2014                                   NaN   \n",
       "4  Abbeville    LA  2015                                   NaN   \n",
       "\n",
       "   InventoryRaw_AllHomes  MedianListingPricePerSqft_1Bedroom  \\\n",
       "0              97.333333                                 NaN   \n",
       "1             107.416667                                 NaN   \n",
       "2             108.833333                                 NaN   \n",
       "3                    NaN                                 NaN   \n",
       "4                    NaN                                 NaN   \n",
       "\n",
       "   MedianListingPricePerSqft_2Bedroom  MedianListingPricePerSqft_3Bedroom  \\\n",
       "0                                 NaN                                 NaN   \n",
       "1                                 NaN                          106.239666   \n",
       "2                                 NaN                          106.948524   \n",
       "3                                 NaN                                 NaN   \n",
       "4                                 NaN                                 NaN   \n",
       "\n",
       "   MedianListingPricePerSqft_4Bedroom  \\\n",
       "0                                 NaN   \n",
       "1                                 NaN   \n",
       "2                                 NaN   \n",
       "3                                 NaN   \n",
       "4                                 NaN   \n",
       "\n",
       "   MedianListingPricePerSqft_5BedroomOrMore      ...       \\\n",
       "0                                       NaN      ...        \n",
       "1                                       NaN      ...        \n",
       "2                                       NaN      ...        \n",
       "3                                       NaN      ...        \n",
       "4                                       NaN      ...        \n",
       "\n",
       "   Property_crime_rate  Burglary_rate  Larceny_theft_rate  Vehicle_theft_rate  \\\n",
       "0           321.604238      83.238744          196.746122           41.619372   \n",
       "1           291.187739      91.954023          191.570881            7.662835   \n",
       "2           195.552147      46.012270          130.368098           19.171779   \n",
       "3           431.579790     170.550084          246.617023           14.412683   \n",
       "4           496.198479     144.057623          344.937975            7.202881   \n",
       "\n",
       "   Arson_rate   avg_crime  State_avg_crime_rate  above_avg_crime  \\\n",
       "0     0.00000  175.936436            209.042392              0.0   \n",
       "1     0.00000  162.835249            203.809278              0.0   \n",
       "2     0.00000  118.865031            198.847519              0.0   \n",
       "3     0.00000  267.435343            201.387931              1.0   \n",
       "4     0.80032  306.522609            191.952795              1.0   \n",
       "\n",
       "   State_avg_home_value  above_avg_HV  \n",
       "0         118775.000000           0.0  \n",
       "1         123387.500000           0.0  \n",
       "2         126316.666667           0.0  \n",
       "3         120025.000000           0.0  \n",
       "4         125275.000000           0.0  \n",
       "\n",
       "[5 rows x 106 columns]"
      ]
     },
     "execution_count": 116,
     "metadata": {},
     "output_type": "execute_result"
    }
   ],
   "source": [
    "city_with_crime.head()"
   ]
  },
  {
   "cell_type": "markdown",
   "metadata": {},
   "source": [
    "---"
   ]
  },
  {
   "cell_type": "markdown",
   "metadata": {},
   "source": [
    "## END DATA PREP. \n",
    "### Use 'city_with_crime' data frame for analysis on effect of crime on home values."
   ]
  },
  {
   "cell_type": "markdown",
   "metadata": {},
   "source": [
    "---"
   ]
  },
  {
   "cell_type": "markdown",
   "metadata": {},
   "source": [
    "Create data frame for machine learning based on meaningful variables with minimal nulls"
   ]
  },
  {
   "cell_type": "code",
   "execution_count": 122,
   "metadata": {
    "collapsed": false
   },
   "outputs": [],
   "source": [
    "dftree = city_with_crime[['City','State','Year', 'Population','Violent_crime_rate', 'Property_crime_rate', \n",
    "            'PctOfHomesIncreasingInValues_AllHomes','InventorySeasonallyAdjusted_AllHomes',\n",
    "            'ZHVI_AllHomes','above_avg_HV','above_avg_crime','Sale_Counts_Seas_Adj','avg_crime']]"
   ]
  },
  {
   "cell_type": "code",
   "execution_count": 126,
   "metadata": {
    "collapsed": false
   },
   "outputs": [
    {
     "data": {
      "text/plain": [
       "6750"
      ]
     },
     "execution_count": 126,
     "metadata": {},
     "output_type": "execute_result"
    }
   ],
   "source": [
    "len(dftree)"
   ]
  },
  {
   "cell_type": "markdown",
   "metadata": {},
   "source": [
    "## Build a classification tree"
   ]
  },
  {
   "cell_type": "code",
   "execution_count": 128,
   "metadata": {
    "collapsed": false
   },
   "outputs": [],
   "source": [
    "X = dftree.drop(['City','State','Year' ,'above_avg_HV','ZHVI_AllHomes',\n",
    "               'Violent_crime_rate','InventorySeasonallyAdjusted_AllHomes'],axis = 1)\n",
    "Y = dftree['above_avg_HV']"
   ]
  },
  {
   "cell_type": "code",
   "execution_count": 129,
   "metadata": {
    "collapsed": false
   },
   "outputs": [
    {
     "data": {
      "image/png": "[encoded data removed]",
      "text/plain": [
       "<IPython.core.display.Image object>"
      ]
     },
     "execution_count": 129,
     "metadata": {},
     "output_type": "execute_result"
    }
   ],
   "source": [
    "dt = tree.DecisionTreeClassifier(max_depth=3)\n",
    "dt.fit(X,Y)\n",
    "dt_feature_names = list(X.columns)\n",
    "dt_target_names = np.array(Y.unique(),dtype=np.string_) \n",
    "tree.export_graphviz(dt, out_file='tree.dot', \n",
    "    feature_names=dt_feature_names, class_names=dt_target_names,\n",
    "    filled=True)  \n",
    "graph = pydotplus.graph_from_dot_file('tree.dot')\n",
    "Image(graph.create_png())"
   ]
  },
  {
   "cell_type": "markdown",
   "metadata": {},
   "source": [
    "### Analysis"
   ]
  },
  {
   "cell_type": "markdown",
   "metadata": {},
   "source": [
    "In general, if a city has a crime rate below the state average, that city will likely have above the state average home values(which is expected). \n",
    "However, it is interesting to note when looking at a lower depth on the left, that some cities have high crime rate(above 120 per 10,000) but within that group, if property crime rate is above 215 per 10,000 then the city has high home values where less property crime has low home values.\n"
   ]
  },
  {
   "cell_type": "markdown",
   "metadata": {},
   "source": [
    "## Violent vs Property crime analysis based on tree results"
   ]
  },
  {
   "cell_type": "markdown",
   "metadata": {},
   "source": [
    "Using this information we wanted to see if the type of crime affects home values differently. When starting this project, we expected as any type of crime increased, that home values would decrease."
   ]
  },
  {
   "cell_type": "code",
   "execution_count": 146,
   "metadata": {
    "collapsed": false
   },
   "outputs": [
    {
     "data": {
      "text/html": [
       "<div>\n",
       "<style>\n",
       "    .dataframe thead tr:only-child th {\n",
       "        text-align: right;\n",
       "    }\n",
       "\n",
       "    .dataframe thead th {\n",
       "        text-align: left;\n",
       "    }\n",
       "\n",
       "    .dataframe tbody tr th {\n",
       "        vertical-align: top;\n",
       "    }\n",
       "</style>\n",
       "<table border=\"1\" class=\"dataframe\">\n",
       "  <thead>\n",
       "    <tr style=\"text-align: right;\">\n",
       "      <th></th>\n",
       "      <th>Population</th>\n",
       "      <th>Violent_crime_rate</th>\n",
       "      <th>Property_crime_rate</th>\n",
       "      <th>ZHVI_AllHomes</th>\n",
       "      <th>above_avg_HV</th>\n",
       "      <th>above_avg_crime</th>\n",
       "      <th>Sale_Counts_Seas_Adj</th>\n",
       "      <th>avg_crime</th>\n",
       "    </tr>\n",
       "  </thead>\n",
       "  <tbody>\n",
       "    <tr>\n",
       "      <th>count</th>\n",
       "      <td>6.750000e+03</td>\n",
       "      <td>6750.000000</td>\n",
       "      <td>6750.000000</td>\n",
       "      <td>6.750000e+03</td>\n",
       "      <td>6750.000000</td>\n",
       "      <td>6750.000000</td>\n",
       "      <td>6750.000000</td>\n",
       "      <td>6750.000000</td>\n",
       "    </tr>\n",
       "    <tr>\n",
       "      <th>mean</th>\n",
       "      <td>4.513610e+04</td>\n",
       "      <td>22.740293</td>\n",
       "      <td>203.731701</td>\n",
       "      <td>2.795421e+05</td>\n",
       "      <td>0.646074</td>\n",
       "      <td>0.336000</td>\n",
       "      <td>62.997625</td>\n",
       "      <td>113.235997</td>\n",
       "    </tr>\n",
       "    <tr>\n",
       "      <th>std</th>\n",
       "      <td>2.249730e+05</td>\n",
       "      <td>26.691796</td>\n",
       "      <td>154.149739</td>\n",
       "      <td>2.407563e+05</td>\n",
       "      <td>0.478222</td>\n",
       "      <td>0.472374</td>\n",
       "      <td>173.953503</td>\n",
       "      <td>85.803645</td>\n",
       "    </tr>\n",
       "    <tr>\n",
       "      <th>min</th>\n",
       "      <td>1.660000e+02</td>\n",
       "      <td>0.000000</td>\n",
       "      <td>0.000000</td>\n",
       "      <td>3.988333e+04</td>\n",
       "      <td>0.000000</td>\n",
       "      <td>0.000000</td>\n",
       "      <td>0.416667</td>\n",
       "      <td>0.000000</td>\n",
       "    </tr>\n",
       "    <tr>\n",
       "      <th>25%</th>\n",
       "      <td>7.759000e+03</td>\n",
       "      <td>6.389365</td>\n",
       "      <td>99.064595</td>\n",
       "      <td>1.465312e+05</td>\n",
       "      <td>0.000000</td>\n",
       "      <td>0.000000</td>\n",
       "      <td>12.250000</td>\n",
       "      <td>54.102449</td>\n",
       "    </tr>\n",
       "    <tr>\n",
       "      <th>50%</th>\n",
       "      <td>1.636000e+04</td>\n",
       "      <td>13.748854</td>\n",
       "      <td>171.311146</td>\n",
       "      <td>2.192875e+05</td>\n",
       "      <td>1.000000</td>\n",
       "      <td>0.000000</td>\n",
       "      <td>25.166667</td>\n",
       "      <td>94.222141</td>\n",
       "    </tr>\n",
       "    <tr>\n",
       "      <th>75%</th>\n",
       "      <td>3.589300e+04</td>\n",
       "      <td>28.913149</td>\n",
       "      <td>266.125656</td>\n",
       "      <td>3.326792e+05</td>\n",
       "      <td>1.000000</td>\n",
       "      <td>1.000000</td>\n",
       "      <td>54.833333</td>\n",
       "      <td>147.756615</td>\n",
       "    </tr>\n",
       "    <tr>\n",
       "      <th>max</th>\n",
       "      <td>8.566917e+06</td>\n",
       "      <td>385.515112</td>\n",
       "      <td>2476.351351</td>\n",
       "      <td>4.207875e+06</td>\n",
       "      <td>1.000000</td>\n",
       "      <td>1.000000</td>\n",
       "      <td>3927.833333</td>\n",
       "      <td>1289.434151</td>\n",
       "    </tr>\n",
       "  </tbody>\n",
       "</table>\n",
       "</div>"
      ],
      "text/plain": [
       "         Population  Violent_crime_rate  Property_crime_rate  ZHVI_AllHomes  \\\n",
       "count  6.750000e+03         6750.000000          6750.000000   6.750000e+03   \n",
       "mean   4.513610e+04           22.740293           203.731701   2.795421e+05   \n",
       "std    2.249730e+05           26.691796           154.149739   2.407563e+05   \n",
       "min    1.660000e+02            0.000000             0.000000   3.988333e+04   \n",
       "25%    7.759000e+03            6.389365            99.064595   1.465312e+05   \n",
       "50%    1.636000e+04           13.748854           171.311146   2.192875e+05   \n",
       "75%    3.589300e+04           28.913149           266.125656   3.326792e+05   \n",
       "max    8.566917e+06          385.515112          2476.351351   4.207875e+06   \n",
       "\n",
       "       above_avg_HV  above_avg_crime  Sale_Counts_Seas_Adj    avg_crime  \n",
       "count   6750.000000      6750.000000           6750.000000  6750.000000  \n",
       "mean       0.646074         0.336000             62.997625   113.235997  \n",
       "std        0.478222         0.472374            173.953503    85.803645  \n",
       "min        0.000000         0.000000              0.416667     0.000000  \n",
       "25%        0.000000         0.000000             12.250000    54.102449  \n",
       "50%        1.000000         0.000000             25.166667    94.222141  \n",
       "75%        1.000000         1.000000             54.833333   147.756615  \n",
       "max        1.000000         1.000000           3927.833333  1289.434151  "
      ]
     },
     "execution_count": 146,
     "metadata": {},
     "output_type": "execute_result"
    }
   ],
   "source": [
    "dftree.drop(['PctOfHomesIncreasingInValues_AllHomes','InventorySeasonallyAdjusted_AllHomes'], axis = 1).describe()"
   ]
  },
  {
   "cell_type": "markdown",
   "metadata": {},
   "source": [
    "From the table above, we describe the following 2 groups:\n",
    "\n",
    "   Group 1: Cities with property crime below average(less than 200) and violent crime above average (greater than 22)\n",
    "\n",
    "   Group 2: Cities with property crime above average(greater than 200) and violent crime below average (less than 22)"
   ]
  },
  {
   "cell_type": "code",
   "execution_count": 137,
   "metadata": {
    "collapsed": false
   },
   "outputs": [
    {
     "data": {
      "text/plain": [
       "230586.50688370585"
      ]
     },
     "execution_count": 137,
     "metadata": {},
     "output_type": "execute_result"
    }
   ],
   "source": [
    "group1_home_value = dftree[(dfML.Property_crime_rate<200)&(dfML.Violent_crime_rate>22)].ZHVI_AllHomes.mean()\n",
    "group1_home_value"
   ]
  },
  {
   "cell_type": "markdown",
   "metadata": {},
   "source": [
    "** <font color='blue'>The average home value for cities in group 1 is $230,586 </font></font>**"
   ]
  },
  {
   "cell_type": "code",
   "execution_count": 132,
   "metadata": {
    "collapsed": false
   },
   "outputs": [
    {
     "data": {
      "text/plain": [
       "0.51836734693877551"
      ]
     },
     "execution_count": 132,
     "metadata": {},
     "output_type": "execute_result"
    }
   ],
   "source": [
    "dftree[(dftree.Property_crime_rate<200)&(dftree.Violent_crime_rate>22)].above_avg_HV.mean()"
   ]
  },
  {
   "cell_type": "markdown",
   "metadata": {},
   "source": [
    "** <font color='blue'>Only 51.8% of these cities have home values above the state average. </font></font>**"
   ]
  },
  {
   "cell_type": "code",
   "execution_count": 138,
   "metadata": {
    "collapsed": false,
    "scrolled": false
   },
   "outputs": [
    {
     "data": {
      "text/plain": [
       "275369.66917110007"
      ]
     },
     "execution_count": 138,
     "metadata": {},
     "output_type": "execute_result"
    }
   ],
   "source": [
    "group2_home_value = dftree[(dftree.Property_crime_rate>200)&(dftree.Violent_crime_rate<22)].ZHVI_AllHomes.mean()\n",
    "group2_home_value"
   ]
  },
  {
   "cell_type": "markdown",
   "metadata": {},
   "source": [
    "** <font color='blue'>The average home value for cities in group 2 is $275,370 </font></font>**"
   ]
  },
  {
   "cell_type": "code",
   "execution_count": 143,
   "metadata": {
    "collapsed": false
   },
   "outputs": [
    {
     "data": {
      "text/plain": [
       "147.35357567076861"
      ]
     },
     "execution_count": 143,
     "metadata": {},
     "output_type": "execute_result"
    }
   ],
   "source": [
    "dftree[(dftree.Property_crime_rate>200)&(dftree.Violent_crime_rate<22)].avg_crime.mean()"
   ]
  },
  {
   "cell_type": "code",
   "execution_count": 140,
   "metadata": {
    "collapsed": false
   },
   "outputs": [
    {
     "data": {
      "text/plain": [
       "0.6802270577105014"
      ]
     },
     "execution_count": 140,
     "metadata": {},
     "output_type": "execute_result"
    }
   ],
   "source": [
    "dftree[(dftree.Property_crime_rate>200)&(dftree.Violent_crime_rate<22)].above_avg_HV.mean()"
   ]
  },
  {
   "cell_type": "markdown",
   "metadata": {},
   "source": [
    "#### <font color='blue'>Group 2 has a total average crime of 147+ per 10,000 population. This puts group 2 puts it in the 75th percentile for crime so it is surprising that 68% of these cities have home values above the state average.</font></font>"
   ]
  },
  {
   "cell_type": "markdown",
   "metadata": {},
   "source": [
    "### What's the percentage difference between the two groups? "
   ]
  },
  {
   "cell_type": "code",
   "execution_count": 141,
   "metadata": {
    "collapsed": false
   },
   "outputs": [
    {
     "data": {
      "text/plain": [
       "0.19421414935601672"
      ]
     },
     "execution_count": 141,
     "metadata": {},
     "output_type": "execute_result"
    }
   ],
   "source": [
    "(group2_home_value-group1_home_value)/group1_home_value"
   ]
  },
  {
   "cell_type": "markdown",
   "metadata": {},
   "source": [
    "\n",
    "** Home values the cities of group 2 are <font color='red'>over 19% higher </font></font>than home values of cities in group 1. **"
   ]
  },
  {
   "cell_type": "markdown",
   "metadata": {},
   "source": [
    "Again this may seem counter intuitive that a place with more crime has higher home values. However it seems that violent crime rates have a stronger negative correlation with home values while property crime rates do not seem to have as strong of a correlation with home values. A likely explanation is that while crime can have a negative impact on home values, property crime in particular seems more likely to occur in more affluent neighborhoods. Therefore, the increase in property crime could be a result of higher valued homes."
   ]
  },
  {
   "cell_type": "markdown",
   "metadata": {},
   "source": [
    "# Classification and Prediction"
   ]
  },
  {
   "cell_type": "code",
   "execution_count": 117,
   "metadata": {
    "collapsed": true
   },
   "outputs": [],
   "source": [
    "from sklearn.model_selection import KFold"
   ]
  },
  {
   "cell_type": "code",
   "execution_count": 118,
   "metadata": {
    "collapsed": true
   },
   "outputs": [],
   "source": [
    "nfolds = 10"
   ]
  },
  {
   "cell_type": "code",
   "execution_count": 119,
   "metadata": {
    "collapsed": true
   },
   "outputs": [],
   "source": [
    "kf = KFold(n_splits=nfolds, random_state = 0, shuffle = True)"
   ]
  },
  {
   "cell_type": "code",
   "execution_count": 120,
   "metadata": {
    "collapsed": true
   },
   "outputs": [],
   "source": [
    "from sklearn.ensemble import RandomForestClassifier\n",
    "from sklearn.naive_bayes import GaussianNB\n",
    "from sklearn.discriminant_analysis import QuadraticDiscriminantAnalysis\n",
    "from sklearn.neural_network import MLPClassifier\n",
    "from sklearn.ensemble import BaggingClassifier\n",
    "from sklearn.neighbors import KNeighborsClassifier\n",
    "from sklearn.ensemble import AdaBoostClassifier\n",
    "from sklearn.svm import SVC\n",
    "from sklearn.tree import DecisionTreeClassifier\n",
    "\n",
    "clfs = [DecisionTreeClassifier(), sk.ensemble.RandomForestClassifier(n_jobs=-1), sk.naive_bayes.GaussianNB(),\n",
    "        sk.linear_model.LogisticRegression(n_jobs=-1),sk.tree.DecisionTreeClassifier(),sk.ensemble.AdaBoostClassifier(),\n",
    "        QuadraticDiscriminantAnalysis(),MLPClassifier(),SVC()]"
   ]
  },
  {
   "cell_type": "code",
   "execution_count": 121,
   "metadata": {
    "collapsed": false
   },
   "outputs": [
    {
     "name": "stdout",
     "output_type": "stream",
     "text": [
      "DecisionTreeClassifier(class_weight=None, criterion='gini', max_depth=None,\n",
      "            max_features=None, max_leaf_nodes=None,\n",
      "            min_impurity_decrease=0.0, min_impurity_split=None,\n",
      "            min_samples_leaf=1, min_samples_split=2,\n",
      "            min_weight_fraction_leaf=0.0, presort=False, random_state=None,\n",
      "            splitter='best') 0.634690486679\n",
      "RandomForestClassifier(bootstrap=True, class_weight=None, criterion='gini',\n",
      "            max_depth=None, max_features='auto', max_leaf_nodes=None,\n",
      "            min_impurity_decrease=0.0, min_impurity_split=None,\n",
      "            min_samples_leaf=1, min_samples_split=2,\n",
      "            min_weight_fraction_leaf=0.0, n_estimators=10, n_jobs=-1,\n",
      "            oob_score=False, random_state=None, verbose=0,\n",
      "            warm_start=False) 0.730875913091\n",
      "GaussianNB(priors=None) 0.706539130922\n"
     ]
    },
    {
     "name": "stderr",
     "output_type": "stream",
     "text": [
      "/Users/tyleryoung/Library/Enthought/Canopy_64bit/User/lib/python2.7/site-packages/sklearn/linear_model/logistic.py:1228: UserWarning: 'n_jobs' > 1 does not have any effect when 'solver' is set to 'liblinear'. Got 'n_jobs' = -1.\n",
      "  \" = {}.\".format(self.n_jobs))\n",
      "/Users/tyleryoung/Library/Enthought/Canopy_64bit/User/lib/python2.7/site-packages/sklearn/linear_model/logistic.py:1228: UserWarning: 'n_jobs' > 1 does not have any effect when 'solver' is set to 'liblinear'. Got 'n_jobs' = -1.\n",
      "  \" = {}.\".format(self.n_jobs))\n",
      "/Users/tyleryoung/Library/Enthought/Canopy_64bit/User/lib/python2.7/site-packages/sklearn/linear_model/logistic.py:1228: UserWarning: 'n_jobs' > 1 does not have any effect when 'solver' is set to 'liblinear'. Got 'n_jobs' = -1.\n",
      "  \" = {}.\".format(self.n_jobs))\n",
      "/Users/tyleryoung/Library/Enthought/Canopy_64bit/User/lib/python2.7/site-packages/sklearn/linear_model/logistic.py:1228: UserWarning: 'n_jobs' > 1 does not have any effect when 'solver' is set to 'liblinear'. Got 'n_jobs' = -1.\n",
      "  \" = {}.\".format(self.n_jobs))\n"
     ]
    },
    {
     "name": "stdout",
     "output_type": "stream",
     "text": [
      "LogisticRegression(C=1.0, class_weight=None, dual=False, fit_intercept=True,\n",
      "          intercept_scaling=1, max_iter=100, multi_class='ovr', n_jobs=-1,\n",
      "          penalty='l2', random_state=None, solver='liblinear', tol=0.0001,\n",
      "          verbose=0, warm_start=False) 0.762362401938\n",
      "DecisionTreeClassifier(class_weight=None, criterion='gini', max_depth=None,\n",
      "            max_features=None, max_leaf_nodes=None,\n",
      "            min_impurity_decrease=0.0, min_impurity_split=None,\n",
      "            min_samples_leaf=1, min_samples_split=2,\n",
      "            min_weight_fraction_leaf=0.0, presort=False, random_state=None,\n",
      "            splitter='best') 0.634690486679\n",
      "AdaBoostClassifier(algorithm='SAMME.R', base_estimator=None,\n",
      "          learning_rate=1.0, n_estimators=50, random_state=None) 0.747149822119\n"
     ]
    },
    {
     "name": "stderr",
     "output_type": "stream",
     "text": [
      "/Users/tyleryoung/Library/Enthought/Canopy_64bit/User/lib/python2.7/site-packages/sklearn/discriminant_analysis.py:682: UserWarning: Variables are collinear\n",
      "  warnings.warn(\"Variables are collinear\")\n",
      "/Users/tyleryoung/Library/Enthought/Canopy_64bit/User/lib/python2.7/site-packages/sklearn/discriminant_analysis.py:682: UserWarning: Variables are collinear\n",
      "  warnings.warn(\"Variables are collinear\")\n",
      "/Users/tyleryoung/Library/Enthought/Canopy_64bit/User/lib/python2.7/site-packages/sklearn/discriminant_analysis.py:682: UserWarning: Variables are collinear\n",
      "  warnings.warn(\"Variables are collinear\")\n",
      "/Users/tyleryoung/Library/Enthought/Canopy_64bit/User/lib/python2.7/site-packages/sklearn/discriminant_analysis.py:682: UserWarning: Variables are collinear\n",
      "  warnings.warn(\"Variables are collinear\")\n"
     ]
    },
    {
     "name": "stdout",
     "output_type": "stream",
     "text": [
      "QuadraticDiscriminantAnalysis(priors=None, reg_param=0.0,\n",
      "               store_covariance=False, store_covariances=None, tol=0.0001) 0.584439708726\n",
      "MLPClassifier(activation='relu', alpha=0.0001, batch_size='auto', beta_1=0.9,\n",
      "       beta_2=0.999, early_stopping=False, epsilon=1e-08,\n",
      "       hidden_layer_sizes=(100,), learning_rate='constant',\n",
      "       learning_rate_init=0.001, max_iter=200, momentum=0.9,\n",
      "       nesterovs_momentum=True, power_t=0.5, random_state=None,\n",
      "       shuffle=True, solver='adam', tol=0.0001, validation_fraction=0.1,\n",
      "       verbose=False, warm_start=False) 0.747575495961\n",
      "SVC(C=1.0, cache_size=200, class_weight=None, coef0=0.0,\n",
      "  decision_function_shape='ovr', degree=3, gamma='auto', kernel='rbf',\n",
      "  max_iter=-1, probability=False, random_state=None, shrinking=True,\n",
      "  tol=0.001, verbose=False) 0.611849091391\n",
      " \n",
      "The best is LogisticRegression(C=1.0, class_weight=None, dual=False, fit_intercept=True,\n",
      "          intercept_scaling=1, max_iter=100, multi_class='ovr', n_jobs=-1,\n",
      "          penalty='l2', random_state=None, solver='liblinear', tol=0.0001,\n",
      "          verbose=0, warm_start=False)\n"
     ]
    }
   ],
   "source": [
    "maxAUC = -1\n",
    "bestCL = \"\"\n",
    "for cl in clfs:\n",
    "    auc = sk.model_selection.cross_val_score(cl,X,Y,cv=kf,n_jobs=-1,scoring = 'roc_auc').mean()\n",
    "    print (str(cl) + ' ' + str(auc))\n",
    "    if auc > maxAUC:\n",
    "        bestCL = cl\n",
    "        maxAUC = auc\n",
    "print ' '\n",
    "print ('The best is ' + str(bestCL))"
   ]
  },
  {
   "cell_type": "code",
   "execution_count": 132,
   "metadata": {
    "collapsed": false
   },
   "outputs": [
    {
     "data": {
      "text/plain": [
       "0.73190546528803546"
      ]
     },
     "execution_count": 132,
     "metadata": {},
     "output_type": "execute_result"
    }
   ],
   "source": [
    "from sklearn.model_selection import train_test_split\n",
    "X_train, X_test, Y_train, Y_test = train_test_split(X,Y, test_size=0.3, random_state=0)\n",
    "from sklearn.linear_model import LogisticRegression\n",
    "cl = LogisticRegression(random_state=0)\n",
    "cl.fit(X_train,Y_train)\n",
    "(cl.predict(X_test) == Y_test).mean()"
   ]
  },
  {
   "cell_type": "code",
   "execution_count": 133,
   "metadata": {
    "collapsed": false
   },
   "outputs": [
    {
     "data": {
      "text/plain": [
       "array([[208, 250],\n",
       "       [113, 783]])"
      ]
     },
     "execution_count": 133,
     "metadata": {},
     "output_type": "execute_result"
    }
   ],
   "source": [
    "y_pred = cl.predict(X_test)\n",
    "y_pred_proba = cl.predict_proba(X_test)[:,1]\n",
    "from sklearn.metrics import confusion_matrix\n",
    "confusion_matrix(Y_test,y_pred)"
   ]
  },
  {
   "cell_type": "code",
   "execution_count": 134,
   "metadata": {
    "collapsed": false
   },
   "outputs": [
    {
     "data": {
      "text/plain": [
       "0.73190546528803546"
      ]
     },
     "execution_count": 134,
     "metadata": {},
     "output_type": "execute_result"
    }
   ],
   "source": [
    "(y_pred == Y_test).mean()"
   ]
  },
  {
   "cell_type": "markdown",
   "metadata": {},
   "source": [
    "Precision"
   ]
  },
  {
   "cell_type": "code",
   "execution_count": 135,
   "metadata": {
    "collapsed": false
   },
   "outputs": [
    {
     "data": {
      "text/plain": [
       "0.75798644724104547"
      ]
     },
     "execution_count": 135,
     "metadata": {},
     "output_type": "execute_result"
    }
   ],
   "source": [
    "import sklearn.metrics as met\n",
    "met.precision_score(Y_test, y_pred)"
   ]
  },
  {
   "cell_type": "code",
   "execution_count": 136,
   "metadata": {
    "collapsed": false
   },
   "outputs": [
    {
     "data": {
      "text/plain": [
       "0.66174298375184637"
      ]
     },
     "execution_count": 136,
     "metadata": {},
     "output_type": "execute_result"
    }
   ],
   "source": [
    "Y_test.mean()"
   ]
  },
  {
   "cell_type": "markdown",
   "metadata": {},
   "source": [
    "Recall"
   ]
  },
  {
   "cell_type": "code",
   "execution_count": 138,
   "metadata": {
    "collapsed": false
   },
   "outputs": [
    {
     "data": {
      "text/plain": [
       "0.8738839285714286"
      ]
     },
     "execution_count": 138,
     "metadata": {},
     "output_type": "execute_result"
    }
   ],
   "source": [
    "met.recall_score(Y_test, y_pred)"
   ]
  },
  {
   "cell_type": "code",
   "execution_count": 137,
   "metadata": {
    "collapsed": false
   },
   "outputs": [
    {
     "data": {
      "text/plain": [
       "0.66401620009357454"
      ]
     },
     "execution_count": 137,
     "metadata": {},
     "output_type": "execute_result"
    }
   ],
   "source": [
    "met.roc_auc_score(Y_test, y_pred)"
   ]
  },
  {
   "cell_type": "markdown",
   "metadata": {},
   "source": [
    "## Clustering"
   ]
  },
  {
   "cell_type": "code",
   "execution_count": 108,
   "metadata": {
    "collapsed": true
   },
   "outputs": [],
   "source": [
    "from sklearn.cluster import KMeans"
   ]
  },
  {
   "cell_type": "code",
   "execution_count": 109,
   "metadata": {
    "collapsed": false
   },
   "outputs": [],
   "source": [
    "dfclu = dfML.copy()"
   ]
  },
  {
   "cell_type": "code",
   "execution_count": 110,
   "metadata": {
    "collapsed": false
   },
   "outputs": [],
   "source": [
    "clu = KMeans(n_clusters=3, random_state=0)"
   ]
  },
  {
   "cell_type": "code",
   "execution_count": 111,
   "metadata": {
    "collapsed": false
   },
   "outputs": [],
   "source": [
    "dfclu.drop(['City','Population', 'State','above_avg_crime',\n",
    "            'Population_bin','avg_crime_bin','Year'], axis = 1, inplace = True)"
   ]
  },
  {
   "cell_type": "code",
   "execution_count": 112,
   "metadata": {
    "collapsed": false
   },
   "outputs": [
    {
     "data": {
      "text/html": [
       "<div>\n",
       "<style>\n",
       "    .dataframe thead tr:only-child th {\n",
       "        text-align: right;\n",
       "    }\n",
       "\n",
       "    .dataframe thead th {\n",
       "        text-align: left;\n",
       "    }\n",
       "\n",
       "    .dataframe tbody tr th {\n",
       "        vertical-align: top;\n",
       "    }\n",
       "</style>\n",
       "<table border=\"1\" class=\"dataframe\">\n",
       "  <thead>\n",
       "    <tr style=\"text-align: right;\">\n",
       "      <th></th>\n",
       "      <th>Violent_crime_rate</th>\n",
       "      <th>Property_crime_rate</th>\n",
       "      <th>PctOfHomesIncreasingInValues_AllHomes</th>\n",
       "      <th>InventorySeasonallyAdjusted_AllHomes</th>\n",
       "      <th>ZHVI_AllHomes</th>\n",
       "      <th>above_avg_HV</th>\n",
       "      <th>Sale_Counts_Seas_Adj</th>\n",
       "      <th>YoY_homevalue</th>\n",
       "      <th>YoY_crime</th>\n",
       "      <th>avg_crime</th>\n",
       "    </tr>\n",
       "  </thead>\n",
       "  <tbody>\n",
       "    <tr>\n",
       "      <th>Violent_crime_rate</th>\n",
       "      <td>1.000000</td>\n",
       "      <td>0.592325</td>\n",
       "      <td>0.124071</td>\n",
       "      <td>0.223569</td>\n",
       "      <td>-0.229399</td>\n",
       "      <td>-0.355896</td>\n",
       "      <td>0.259633</td>\n",
       "      <td>-0.021420</td>\n",
       "      <td>0.073629</td>\n",
       "      <td>0.689330</td>\n",
       "    </tr>\n",
       "    <tr>\n",
       "      <th>Property_crime_rate</th>\n",
       "      <td>0.592325</td>\n",
       "      <td>1.000000</td>\n",
       "      <td>0.148184</td>\n",
       "      <td>0.142369</td>\n",
       "      <td>-0.177173</td>\n",
       "      <td>-0.246515</td>\n",
       "      <td>0.172077</td>\n",
       "      <td>0.007985</td>\n",
       "      <td>0.197368</td>\n",
       "      <td>0.991994</td>\n",
       "    </tr>\n",
       "    <tr>\n",
       "      <th>PctOfHomesIncreasingInValues_AllHomes</th>\n",
       "      <td>0.124071</td>\n",
       "      <td>0.148184</td>\n",
       "      <td>1.000000</td>\n",
       "      <td>0.056019</td>\n",
       "      <td>0.074114</td>\n",
       "      <td>0.086719</td>\n",
       "      <td>0.164945</td>\n",
       "      <td>0.274469</td>\n",
       "      <td>0.000165</td>\n",
       "      <td>0.152687</td>\n",
       "    </tr>\n",
       "    <tr>\n",
       "      <th>InventorySeasonallyAdjusted_AllHomes</th>\n",
       "      <td>0.223569</td>\n",
       "      <td>0.142369</td>\n",
       "      <td>0.056019</td>\n",
       "      <td>1.000000</td>\n",
       "      <td>-0.003818</td>\n",
       "      <td>0.009918</td>\n",
       "      <td>0.904147</td>\n",
       "      <td>0.010923</td>\n",
       "      <td>-0.006856</td>\n",
       "      <td>0.163053</td>\n",
       "    </tr>\n",
       "    <tr>\n",
       "      <th>ZHVI_AllHomes</th>\n",
       "      <td>-0.229399</td>\n",
       "      <td>-0.177173</td>\n",
       "      <td>0.074114</td>\n",
       "      <td>-0.003818</td>\n",
       "      <td>1.000000</td>\n",
       "      <td>0.340087</td>\n",
       "      <td>-0.003544</td>\n",
       "      <td>0.498410</td>\n",
       "      <td>0.034448</td>\n",
       "      <td>-0.195262</td>\n",
       "    </tr>\n",
       "    <tr>\n",
       "      <th>above_avg_HV</th>\n",
       "      <td>-0.355896</td>\n",
       "      <td>-0.246515</td>\n",
       "      <td>0.086719</td>\n",
       "      <td>0.009918</td>\n",
       "      <td>0.340087</td>\n",
       "      <td>1.000000</td>\n",
       "      <td>0.011769</td>\n",
       "      <td>0.196672</td>\n",
       "      <td>0.031408</td>\n",
       "      <td>-0.277438</td>\n",
       "    </tr>\n",
       "    <tr>\n",
       "      <th>Sale_Counts_Seas_Adj</th>\n",
       "      <td>0.259633</td>\n",
       "      <td>0.172077</td>\n",
       "      <td>0.164945</td>\n",
       "      <td>0.904147</td>\n",
       "      <td>-0.003544</td>\n",
       "      <td>0.011769</td>\n",
       "      <td>1.000000</td>\n",
       "      <td>0.038930</td>\n",
       "      <td>-0.001096</td>\n",
       "      <td>0.195418</td>\n",
       "    </tr>\n",
       "    <tr>\n",
       "      <th>YoY_homevalue</th>\n",
       "      <td>-0.021420</td>\n",
       "      <td>0.007985</td>\n",
       "      <td>0.274469</td>\n",
       "      <td>0.010923</td>\n",
       "      <td>0.498410</td>\n",
       "      <td>0.196672</td>\n",
       "      <td>0.038930</td>\n",
       "      <td>1.000000</td>\n",
       "      <td>0.019155</td>\n",
       "      <td>0.003823</td>\n",
       "    </tr>\n",
       "    <tr>\n",
       "      <th>YoY_crime</th>\n",
       "      <td>0.073629</td>\n",
       "      <td>0.197368</td>\n",
       "      <td>0.000165</td>\n",
       "      <td>-0.006856</td>\n",
       "      <td>0.034448</td>\n",
       "      <td>0.031408</td>\n",
       "      <td>-0.001096</td>\n",
       "      <td>0.019155</td>\n",
       "      <td>1.000000</td>\n",
       "      <td>0.189005</td>\n",
       "    </tr>\n",
       "    <tr>\n",
       "      <th>avg_crime</th>\n",
       "      <td>0.689330</td>\n",
       "      <td>0.991994</td>\n",
       "      <td>0.152687</td>\n",
       "      <td>0.163053</td>\n",
       "      <td>-0.195262</td>\n",
       "      <td>-0.277438</td>\n",
       "      <td>0.195418</td>\n",
       "      <td>0.003823</td>\n",
       "      <td>0.189005</td>\n",
       "      <td>1.000000</td>\n",
       "    </tr>\n",
       "  </tbody>\n",
       "</table>\n",
       "</div>"
      ],
      "text/plain": [
       "                                       Violent_crime_rate  \\\n",
       "Violent_crime_rate                               1.000000   \n",
       "Property_crime_rate                              0.592325   \n",
       "PctOfHomesIncreasingInValues_AllHomes            0.124071   \n",
       "InventorySeasonallyAdjusted_AllHomes             0.223569   \n",
       "ZHVI_AllHomes                                   -0.229399   \n",
       "above_avg_HV                                    -0.355896   \n",
       "Sale_Counts_Seas_Adj                             0.259633   \n",
       "YoY_homevalue                                   -0.021420   \n",
       "YoY_crime                                        0.073629   \n",
       "avg_crime                                        0.689330   \n",
       "\n",
       "                                       Property_crime_rate  \\\n",
       "Violent_crime_rate                                0.592325   \n",
       "Property_crime_rate                               1.000000   \n",
       "PctOfHomesIncreasingInValues_AllHomes             0.148184   \n",
       "InventorySeasonallyAdjusted_AllHomes              0.142369   \n",
       "ZHVI_AllHomes                                    -0.177173   \n",
       "above_avg_HV                                     -0.246515   \n",
       "Sale_Counts_Seas_Adj                              0.172077   \n",
       "YoY_homevalue                                     0.007985   \n",
       "YoY_crime                                         0.197368   \n",
       "avg_crime                                         0.991994   \n",
       "\n",
       "                                       PctOfHomesIncreasingInValues_AllHomes  \\\n",
       "Violent_crime_rate                                                  0.124071   \n",
       "Property_crime_rate                                                 0.148184   \n",
       "PctOfHomesIncreasingInValues_AllHomes                               1.000000   \n",
       "InventorySeasonallyAdjusted_AllHomes                                0.056019   \n",
       "ZHVI_AllHomes                                                       0.074114   \n",
       "above_avg_HV                                                        0.086719   \n",
       "Sale_Counts_Seas_Adj                                                0.164945   \n",
       "YoY_homevalue                                                       0.274469   \n",
       "YoY_crime                                                           0.000165   \n",
       "avg_crime                                                           0.152687   \n",
       "\n",
       "                                       InventorySeasonallyAdjusted_AllHomes  \\\n",
       "Violent_crime_rate                                                 0.223569   \n",
       "Property_crime_rate                                                0.142369   \n",
       "PctOfHomesIncreasingInValues_AllHomes                              0.056019   \n",
       "InventorySeasonallyAdjusted_AllHomes                               1.000000   \n",
       "ZHVI_AllHomes                                                     -0.003818   \n",
       "above_avg_HV                                                       0.009918   \n",
       "Sale_Counts_Seas_Adj                                               0.904147   \n",
       "YoY_homevalue                                                      0.010923   \n",
       "YoY_crime                                                         -0.006856   \n",
       "avg_crime                                                          0.163053   \n",
       "\n",
       "                                       ZHVI_AllHomes  above_avg_HV  \\\n",
       "Violent_crime_rate                         -0.229399     -0.355896   \n",
       "Property_crime_rate                        -0.177173     -0.246515   \n",
       "PctOfHomesIncreasingInValues_AllHomes       0.074114      0.086719   \n",
       "InventorySeasonallyAdjusted_AllHomes       -0.003818      0.009918   \n",
       "ZHVI_AllHomes                               1.000000      0.340087   \n",
       "above_avg_HV                                0.340087      1.000000   \n",
       "Sale_Counts_Seas_Adj                       -0.003544      0.011769   \n",
       "YoY_homevalue                               0.498410      0.196672   \n",
       "YoY_crime                                   0.034448      0.031408   \n",
       "avg_crime                                  -0.195262     -0.277438   \n",
       "\n",
       "                                       Sale_Counts_Seas_Adj  YoY_homevalue  \\\n",
       "Violent_crime_rate                                 0.259633      -0.021420   \n",
       "Property_crime_rate                                0.172077       0.007985   \n",
       "PctOfHomesIncreasingInValues_AllHomes              0.164945       0.274469   \n",
       "InventorySeasonallyAdjusted_AllHomes               0.904147       0.010923   \n",
       "ZHVI_AllHomes                                     -0.003544       0.498410   \n",
       "above_avg_HV                                       0.011769       0.196672   \n",
       "Sale_Counts_Seas_Adj                               1.000000       0.038930   \n",
       "YoY_homevalue                                      0.038930       1.000000   \n",
       "YoY_crime                                         -0.001096       0.019155   \n",
       "avg_crime                                          0.195418       0.003823   \n",
       "\n",
       "                                       YoY_crime  avg_crime  \n",
       "Violent_crime_rate                      0.073629   0.689330  \n",
       "Property_crime_rate                     0.197368   0.991994  \n",
       "PctOfHomesIncreasingInValues_AllHomes   0.000165   0.152687  \n",
       "InventorySeasonallyAdjusted_AllHomes   -0.006856   0.163053  \n",
       "ZHVI_AllHomes                           0.034448  -0.195262  \n",
       "above_avg_HV                            0.031408  -0.277438  \n",
       "Sale_Counts_Seas_Adj                   -0.001096   0.195418  \n",
       "YoY_homevalue                           0.019155   0.003823  \n",
       "YoY_crime                               1.000000   0.189005  \n",
       "avg_crime                               0.189005   1.000000  "
      ]
     },
     "execution_count": 112,
     "metadata": {},
     "output_type": "execute_result"
    }
   ],
   "source": [
    "dfclu.corr()"
   ]
  },
  {
   "cell_type": "code",
   "execution_count": 113,
   "metadata": {
    "collapsed": false
   },
   "outputs": [
    {
     "data": {
      "text/plain": [
       "KMeans(algorithm='auto', copy_x=True, init='k-means++', max_iter=300,\n",
       "    n_clusters=3, n_init=10, n_jobs=1, precompute_distances='auto',\n",
       "    random_state=0, tol=0.0001, verbose=0)"
      ]
     },
     "execution_count": 113,
     "metadata": {},
     "output_type": "execute_result"
    }
   ],
   "source": [
    "clu.fit(dfclu)"
   ]
  },
  {
   "cell_type": "code",
   "execution_count": 114,
   "metadata": {
    "collapsed": true
   },
   "outputs": [],
   "source": [
    "dfclu2 = dfclu.copy()"
   ]
  },
  {
   "cell_type": "code",
   "execution_count": 115,
   "metadata": {
    "collapsed": true
   },
   "outputs": [],
   "source": [
    "dfclu2['cluster']=clu.labels_"
   ]
  },
  {
   "cell_type": "code",
   "execution_count": 116,
   "metadata": {
    "collapsed": false
   },
   "outputs": [
    {
     "data": {
      "text/html": [
       "<div>\n",
       "<style>\n",
       "    .dataframe thead tr:only-child th {\n",
       "        text-align: right;\n",
       "    }\n",
       "\n",
       "    .dataframe thead th {\n",
       "        text-align: left;\n",
       "    }\n",
       "\n",
       "    .dataframe tbody tr th {\n",
       "        vertical-align: top;\n",
       "    }\n",
       "</style>\n",
       "<table border=\"1\" class=\"dataframe\">\n",
       "  <thead>\n",
       "    <tr style=\"text-align: right;\">\n",
       "      <th></th>\n",
       "      <th>Violent_crime_rate</th>\n",
       "      <th>Property_crime_rate</th>\n",
       "      <th>PctOfHomesIncreasingInValues_AllHomes</th>\n",
       "      <th>InventorySeasonallyAdjusted_AllHomes</th>\n",
       "      <th>ZHVI_AllHomes</th>\n",
       "      <th>above_avg_HV</th>\n",
       "      <th>Sale_Counts_Seas_Adj</th>\n",
       "      <th>YoY_homevalue</th>\n",
       "      <th>YoY_crime</th>\n",
       "      <th>avg_crime</th>\n",
       "    </tr>\n",
       "    <tr>\n",
       "      <th>cluster</th>\n",
       "      <th></th>\n",
       "      <th></th>\n",
       "      <th></th>\n",
       "      <th></th>\n",
       "      <th></th>\n",
       "      <th></th>\n",
       "      <th></th>\n",
       "      <th></th>\n",
       "      <th></th>\n",
       "      <th></th>\n",
       "    </tr>\n",
       "  </thead>\n",
       "  <tbody>\n",
       "    <tr>\n",
       "      <th>0</th>\n",
       "      <td>25.240543</td>\n",
       "      <td>212.903871</td>\n",
       "      <td>64.825581</td>\n",
       "      <td>183.015016</td>\n",
       "      <td>1.964549e+05</td>\n",
       "      <td>0.566124</td>\n",
       "      <td>63.355330</td>\n",
       "      <td>9009.162677</td>\n",
       "      <td>-3.196066</td>\n",
       "      <td>119.072207</td>\n",
       "    </tr>\n",
       "    <tr>\n",
       "      <th>1</th>\n",
       "      <td>9.621115</td>\n",
       "      <td>164.629391</td>\n",
       "      <td>68.563075</td>\n",
       "      <td>118.776995</td>\n",
       "      <td>1.627772e+06</td>\n",
       "      <td>1.000000</td>\n",
       "      <td>32.983568</td>\n",
       "      <td>107452.112676</td>\n",
       "      <td>2.588822</td>\n",
       "      <td>87.125253</td>\n",
       "    </tr>\n",
       "    <tr>\n",
       "      <th>2</th>\n",
       "      <td>14.094246</td>\n",
       "      <td>151.401913</td>\n",
       "      <td>66.974281</td>\n",
       "      <td>201.804552</td>\n",
       "      <td>5.237627e+05</td>\n",
       "      <td>0.927736</td>\n",
       "      <td>71.941323</td>\n",
       "      <td>27950.141693</td>\n",
       "      <td>-0.604596</td>\n",
       "      <td>82.748079</td>\n",
       "    </tr>\n",
       "  </tbody>\n",
       "</table>\n",
       "</div>"
      ],
      "text/plain": [
       "         Violent_crime_rate  Property_crime_rate  \\\n",
       "cluster                                            \n",
       "0                 25.240543           212.903871   \n",
       "1                  9.621115           164.629391   \n",
       "2                 14.094246           151.401913   \n",
       "\n",
       "         PctOfHomesIncreasingInValues_AllHomes  \\\n",
       "cluster                                          \n",
       "0                                    64.825581   \n",
       "1                                    68.563075   \n",
       "2                                    66.974281   \n",
       "\n",
       "         InventorySeasonallyAdjusted_AllHomes  ZHVI_AllHomes  above_avg_HV  \\\n",
       "cluster                                                                      \n",
       "0                                  183.015016   1.964549e+05      0.566124   \n",
       "1                                  118.776995   1.627772e+06      1.000000   \n",
       "2                                  201.804552   5.237627e+05      0.927736   \n",
       "\n",
       "         Sale_Counts_Seas_Adj  YoY_homevalue  YoY_crime   avg_crime  \n",
       "cluster                                                              \n",
       "0                   63.355330    9009.162677  -3.196066  119.072207  \n",
       "1                   32.983568  107452.112676   2.588822   87.125253  \n",
       "2                   71.941323   27950.141693  -0.604596   82.748079  "
      ]
     },
     "execution_count": 116,
     "metadata": {},
     "output_type": "execute_result"
    }
   ],
   "source": [
    "dfclu2.groupby('cluster').mean()"
   ]
  },
  {
   "cell_type": "markdown",
   "metadata": {},
   "source": [
    "#### <font color='blue'>Similar to the tree, the clusters show that in general places with higher average crime have lower home values. However cluster 1 has a higher average crime rate than cluster 2 because cluster 1 has a higher property crime rate. But on average the home values for cluster 1 are higher than cluster 2. </font></font>\n"
   ]
  },
  {
   "cell_type": "markdown",
   "metadata": {},
   "source": [
    "# Year over year"
   ]
  },
  {
   "cell_type": "markdown",
   "metadata": {},
   "source": [
    "#### Created shifted home value column and crime rate for grouped by each city. This will be used to create a new column to compare the year over year change in home value and crime rate"
   ]
  },
  {
   "cell_type": "markdown",
   "metadata": {},
   "source": [
    "shift home values and join to create a new data frame"
   ]
  },
  {
   "cell_type": "code",
   "execution_count": 30,
   "metadata": {
    "collapsed": false
   },
   "outputs": [],
   "source": [
    "dfb = df7.groupby(['City', 'State']).apply(lambda x:x.ZHVI_AllHomes.shift(1)).reset_index()"
   ]
  },
  {
   "cell_type": "code",
   "execution_count": 31,
   "metadata": {
    "collapsed": false
   },
   "outputs": [],
   "source": [
    "dfb.set_index('level_2',inplace=True)\n",
    "dfb.index.name=None\n",
    "dfYoY = df7.join(dfb, how='outer',rsuffix='_y')"
   ]
  },
  {
   "cell_type": "code",
   "execution_count": 32,
   "metadata": {
    "collapsed": true
   },
   "outputs": [],
   "source": [
    "dfYoY.drop(['City_y','State_y'], axis = 1, inplace = True)"
   ]
  },
  {
   "cell_type": "markdown",
   "metadata": {},
   "source": [
    "shift violent crime rate and join to previous dfYoY"
   ]
  },
  {
   "cell_type": "code",
   "execution_count": 33,
   "metadata": {
    "collapsed": false
   },
   "outputs": [],
   "source": [
    "dfc = dfYoY.groupby(['City', 'State']).apply(lambda x:x.avg_crime.shift(1)).reset_index()"
   ]
  },
  {
   "cell_type": "code",
   "execution_count": 34,
   "metadata": {
    "collapsed": false
   },
   "outputs": [],
   "source": [
    "dfc.set_index('level_2',inplace=True)\n",
    "dfc.index.name=None\n",
    "dfYoY = dfYoY.join(dfc, how='outer',rsuffix='_y')"
   ]
  },
  {
   "cell_type": "code",
   "execution_count": 35,
   "metadata": {
    "collapsed": true
   },
   "outputs": [],
   "source": [
    "dfYoY.drop(['City_y','State_y'], axis = 1, inplace = True)"
   ]
  },
  {
   "cell_type": "code",
   "execution_count": 36,
   "metadata": {
    "collapsed": false
   },
   "outputs": [],
   "source": [
    "dfYoY['YoY_crime'] = dfYoY['avg_crime'] - dfYoY['avg_crime_y']"
   ]
  },
  {
   "cell_type": "code",
   "execution_count": 37,
   "metadata": {
    "collapsed": true
   },
   "outputs": [],
   "source": [
    "dfYoY['YoY_homevalue'] = dfYoY['ZHVI_AllHomes'] - dfYoY['ZHVI_AllHomes_y']"
   ]
  },
  {
   "cell_type": "markdown",
   "metadata": {},
   "source": [
    "## Where to move?"
   ]
  },
  {
   "cell_type": "markdown",
   "metadata": {},
   "source": [
    "Are there cities that are safe for a family (low crime) and a good investment(crime decreasing so expected to increase in home value)?"
   ]
  },
  {
   "cell_type": "code",
   "execution_count": 393,
   "metadata": {
    "collapsed": false
   },
   "outputs": [],
   "source": [
    "dfa = dfYoY[['City','State','Year', 'Population', \n",
    "            'ZHVI_AllHomes','above_avg_HV','above_avg_crime',\n",
    "            'YoY_homevalue','YoY_crime','avg_crime']]"
   ]
  },
  {
   "cell_type": "code",
   "execution_count": 395,
   "metadata": {
    "collapsed": false
   },
   "outputs": [
    {
     "data": {
      "text/html": [
       "<div>\n",
       "<style>\n",
       "    .dataframe thead tr:only-child th {\n",
       "        text-align: right;\n",
       "    }\n",
       "\n",
       "    .dataframe thead th {\n",
       "        text-align: left;\n",
       "    }\n",
       "\n",
       "    .dataframe tbody tr th {\n",
       "        vertical-align: top;\n",
       "    }\n",
       "</style>\n",
       "<table border=\"1\" class=\"dataframe\">\n",
       "  <thead>\n",
       "    <tr style=\"text-align: right;\">\n",
       "      <th></th>\n",
       "      <th>Population</th>\n",
       "      <th>ZHVI_AllHomes</th>\n",
       "      <th>above_avg_HV</th>\n",
       "      <th>above_avg_crime</th>\n",
       "      <th>YoY_homevalue</th>\n",
       "      <th>YoY_crime</th>\n",
       "      <th>avg_crime</th>\n",
       "    </tr>\n",
       "  </thead>\n",
       "  <tbody>\n",
       "    <tr>\n",
       "      <th>count</th>\n",
       "      <td>1.195200e+04</td>\n",
       "      <td>1.195200e+04</td>\n",
       "      <td>11952.000000</td>\n",
       "      <td>11952.000000</td>\n",
       "      <td>11952.000000</td>\n",
       "      <td>11952.000000</td>\n",
       "      <td>11952.000000</td>\n",
       "    </tr>\n",
       "    <tr>\n",
       "      <th>mean</th>\n",
       "      <td>2.834666e+04</td>\n",
       "      <td>2.312259e+05</td>\n",
       "      <td>0.501590</td>\n",
       "      <td>0.382530</td>\n",
       "      <td>11417.858329</td>\n",
       "      <td>-3.781436</td>\n",
       "      <td>126.431976</td>\n",
       "    </tr>\n",
       "    <tr>\n",
       "      <th>std</th>\n",
       "      <td>1.439550e+05</td>\n",
       "      <td>2.559073e+05</td>\n",
       "      <td>0.500018</td>\n",
       "      <td>0.486025</td>\n",
       "      <td>32222.528533</td>\n",
       "      <td>51.275207</td>\n",
       "      <td>105.162160</td>\n",
       "    </tr>\n",
       "    <tr>\n",
       "      <th>min</th>\n",
       "      <td>1.480000e+02</td>\n",
       "      <td>2.980833e+04</td>\n",
       "      <td>0.000000</td>\n",
       "      <td>0.000000</td>\n",
       "      <td>-356366.666667</td>\n",
       "      <td>-2812.510800</td>\n",
       "      <td>0.000000</td>\n",
       "    </tr>\n",
       "    <tr>\n",
       "      <th>25%</th>\n",
       "      <td>3.790500e+03</td>\n",
       "      <td>1.144188e+05</td>\n",
       "      <td>0.000000</td>\n",
       "      <td>0.000000</td>\n",
       "      <td>2291.666667</td>\n",
       "      <td>-17.160851</td>\n",
       "      <td>57.109671</td>\n",
       "    </tr>\n",
       "    <tr>\n",
       "      <th>50%</th>\n",
       "      <td>8.888000e+03</td>\n",
       "      <td>1.628958e+05</td>\n",
       "      <td>1.000000</td>\n",
       "      <td>0.000000</td>\n",
       "      <td>6883.333333</td>\n",
       "      <td>-2.198531</td>\n",
       "      <td>103.066285</td>\n",
       "    </tr>\n",
       "    <tr>\n",
       "      <th>75%</th>\n",
       "      <td>2.377175e+04</td>\n",
       "      <td>2.598083e+05</td>\n",
       "      <td>1.000000</td>\n",
       "      <td>1.000000</td>\n",
       "      <td>14408.333333</td>\n",
       "      <td>10.321230</td>\n",
       "      <td>167.473499</td>\n",
       "    </tr>\n",
       "    <tr>\n",
       "      <th>max</th>\n",
       "      <td>8.566917e+06</td>\n",
       "      <td>6.010350e+06</td>\n",
       "      <td>1.000000</td>\n",
       "      <td>1.000000</td>\n",
       "      <td>964658.333333</td>\n",
       "      <td>1433.416573</td>\n",
       "      <td>3008.130081</td>\n",
       "    </tr>\n",
       "  </tbody>\n",
       "</table>\n",
       "</div>"
      ],
      "text/plain": [
       "         Population  ZHVI_AllHomes  above_avg_HV  above_avg_crime  \\\n",
       "count  1.195200e+04   1.195200e+04  11952.000000     11952.000000   \n",
       "mean   2.834666e+04   2.312259e+05      0.501590         0.382530   \n",
       "std    1.439550e+05   2.559073e+05      0.500018         0.486025   \n",
       "min    1.480000e+02   2.980833e+04      0.000000         0.000000   \n",
       "25%    3.790500e+03   1.144188e+05      0.000000         0.000000   \n",
       "50%    8.888000e+03   1.628958e+05      1.000000         0.000000   \n",
       "75%    2.377175e+04   2.598083e+05      1.000000         1.000000   \n",
       "max    8.566917e+06   6.010350e+06      1.000000         1.000000   \n",
       "\n",
       "       YoY_homevalue     YoY_crime     avg_crime  \n",
       "count   11952.000000  11952.000000  11952.000000  \n",
       "mean    11417.858329     -3.781436    126.431976  \n",
       "std     32222.528533     51.275207    105.162160  \n",
       "min   -356366.666667  -2812.510800      0.000000  \n",
       "25%      2291.666667    -17.160851     57.109671  \n",
       "50%      6883.333333     -2.198531    103.066285  \n",
       "75%     14408.333333     10.321230    167.473499  \n",
       "max    964658.333333   1433.416573   3008.130081  "
      ]
     },
     "execution_count": 395,
     "metadata": {},
     "output_type": "execute_result"
    }
   ],
   "source": [
    "dfa.describe()"
   ]
  },
  {
   "cell_type": "code",
   "execution_count": 444,
   "metadata": {
    "collapsed": false,
    "scrolled": false
   },
   "outputs": [
    {
     "data": {
      "text/html": [
       "<div>\n",
       "<style>\n",
       "    .dataframe thead tr:only-child th {\n",
       "        text-align: right;\n",
       "    }\n",
       "\n",
       "    .dataframe thead th {\n",
       "        text-align: left;\n",
       "    }\n",
       "\n",
       "    .dataframe tbody tr th {\n",
       "        vertical-align: top;\n",
       "    }\n",
       "</style>\n",
       "<table border=\"1\" class=\"dataframe\">\n",
       "  <thead>\n",
       "    <tr style=\"text-align: right;\">\n",
       "      <th></th>\n",
       "      <th>City</th>\n",
       "      <th>State</th>\n",
       "      <th>Year</th>\n",
       "      <th>Population</th>\n",
       "      <th>ZHVI_AllHomes</th>\n",
       "      <th>above_avg_HV</th>\n",
       "      <th>above_avg_crime</th>\n",
       "      <th>YoY_homevalue</th>\n",
       "      <th>YoY_crime</th>\n",
       "      <th>avg_crime</th>\n",
       "    </tr>\n",
       "  </thead>\n",
       "  <tbody>\n",
       "    <tr>\n",
       "      <th>4830</th>\n",
       "      <td>Danville</td>\n",
       "      <td>CA</td>\n",
       "      <td>2016</td>\n",
       "      <td>44897</td>\n",
       "      <td>1.164867e+06</td>\n",
       "      <td>1.0</td>\n",
       "      <td>0.0</td>\n",
       "      <td>65466.666667</td>\n",
       "      <td>-15.329809</td>\n",
       "      <td>41.650890</td>\n",
       "    </tr>\n",
       "    <tr>\n",
       "      <th>14051</th>\n",
       "      <td>Newton</td>\n",
       "      <td>MA</td>\n",
       "      <td>2016</td>\n",
       "      <td>89116</td>\n",
       "      <td>9.132833e+05</td>\n",
       "      <td>1.0</td>\n",
       "      <td>0.0</td>\n",
       "      <td>62708.333333</td>\n",
       "      <td>-6.989454</td>\n",
       "      <td>38.601373</td>\n",
       "    </tr>\n",
       "    <tr>\n",
       "      <th>598</th>\n",
       "      <td>Arlington</td>\n",
       "      <td>MA</td>\n",
       "      <td>2016</td>\n",
       "      <td>45004</td>\n",
       "      <td>6.233250e+05</td>\n",
       "      <td>1.0</td>\n",
       "      <td>0.0</td>\n",
       "      <td>39158.333333</td>\n",
       "      <td>-17.808132</td>\n",
       "      <td>31.330548</td>\n",
       "    </tr>\n",
       "    <tr>\n",
       "      <th>16523</th>\n",
       "      <td>Rancho Santa Margarita</td>\n",
       "      <td>CA</td>\n",
       "      <td>2016</td>\n",
       "      <td>49606</td>\n",
       "      <td>6.029750e+05</td>\n",
       "      <td>1.0</td>\n",
       "      <td>0.0</td>\n",
       "      <td>31808.333333</td>\n",
       "      <td>-3.145925</td>\n",
       "      <td>31.750192</td>\n",
       "    </tr>\n",
       "    <tr>\n",
       "      <th>10017</th>\n",
       "      <td>Keller</td>\n",
       "      <td>TX</td>\n",
       "      <td>2016</td>\n",
       "      <td>47047</td>\n",
       "      <td>3.643083e+05</td>\n",
       "      <td>1.0</td>\n",
       "      <td>0.0</td>\n",
       "      <td>29508.333333</td>\n",
       "      <td>-7.751663</td>\n",
       "      <td>31.351627</td>\n",
       "    </tr>\n",
       "    <tr>\n",
       "      <th>1754</th>\n",
       "      <td>Billerica</td>\n",
       "      <td>MA</td>\n",
       "      <td>2016</td>\n",
       "      <td>42965</td>\n",
       "      <td>3.831167e+05</td>\n",
       "      <td>1.0</td>\n",
       "      <td>0.0</td>\n",
       "      <td>28025.000000</td>\n",
       "      <td>-7.150372</td>\n",
       "      <td>28.395205</td>\n",
       "    </tr>\n",
       "    <tr>\n",
       "      <th>1707</th>\n",
       "      <td>Beverly</td>\n",
       "      <td>MA</td>\n",
       "      <td>2016</td>\n",
       "      <td>41303</td>\n",
       "      <td>3.927750e+05</td>\n",
       "      <td>1.0</td>\n",
       "      <td>0.0</td>\n",
       "      <td>25158.333333</td>\n",
       "      <td>-5.354812</td>\n",
       "      <td>47.817350</td>\n",
       "    </tr>\n",
       "    <tr>\n",
       "      <th>16004</th>\n",
       "      <td>Plymouth</td>\n",
       "      <td>MA</td>\n",
       "      <td>2016</td>\n",
       "      <td>59088</td>\n",
       "      <td>3.230750e+05</td>\n",
       "      <td>0.0</td>\n",
       "      <td>0.0</td>\n",
       "      <td>16666.666667</td>\n",
       "      <td>-5.965972</td>\n",
       "      <td>39.771189</td>\n",
       "    </tr>\n",
       "    <tr>\n",
       "      <th>2632</th>\n",
       "      <td>Buffalo Grove</td>\n",
       "      <td>IL</td>\n",
       "      <td>2016</td>\n",
       "      <td>41511</td>\n",
       "      <td>2.849083e+05</td>\n",
       "      <td>1.0</td>\n",
       "      <td>0.0</td>\n",
       "      <td>16158.333333</td>\n",
       "      <td>-1.637255</td>\n",
       "      <td>26.619450</td>\n",
       "    </tr>\n",
       "  </tbody>\n",
       "</table>\n",
       "</div>"
      ],
      "text/plain": [
       "                         City State  Year  Population  ZHVI_AllHomes  \\\n",
       "4830                 Danville    CA  2016       44897   1.164867e+06   \n",
       "14051                  Newton    MA  2016       89116   9.132833e+05   \n",
       "598                 Arlington    MA  2016       45004   6.233250e+05   \n",
       "16523  Rancho Santa Margarita    CA  2016       49606   6.029750e+05   \n",
       "10017                  Keller    TX  2016       47047   3.643083e+05   \n",
       "1754                Billerica    MA  2016       42965   3.831167e+05   \n",
       "1707                  Beverly    MA  2016       41303   3.927750e+05   \n",
       "16004                Plymouth    MA  2016       59088   3.230750e+05   \n",
       "2632            Buffalo Grove    IL  2016       41511   2.849083e+05   \n",
       "\n",
       "       above_avg_HV  above_avg_crime  YoY_homevalue  YoY_crime  avg_crime  \n",
       "4830            1.0              0.0   65466.666667 -15.329809  41.650890  \n",
       "14051           1.0              0.0   62708.333333  -6.989454  38.601373  \n",
       "598             1.0              0.0   39158.333333 -17.808132  31.330548  \n",
       "16523           1.0              0.0   31808.333333  -3.145925  31.750192  \n",
       "10017           1.0              0.0   29508.333333  -7.751663  31.351627  \n",
       "1754            1.0              0.0   28025.000000  -7.150372  28.395205  \n",
       "1707            1.0              0.0   25158.333333  -5.354812  47.817350  \n",
       "16004           0.0              0.0   16666.666667  -5.965972  39.771189  \n",
       "2632            1.0              0.0   16158.333333  -1.637255  26.619450  "
      ]
     },
     "execution_count": 444,
     "metadata": {},
     "output_type": "execute_result"
    }
   ],
   "source": [
    "dfa[(dfa.avg_crime<50)&(dfa.YoY_crime<0)&(dfa.Population>40000)&(dfa.Year =='2016')&(\n",
    "        dfa.YoY_homevalue>15000)].sort_values(by = 'YoY_homevalue', ascending = False)"
   ]
  },
  {
   "cell_type": "markdown",
   "metadata": {},
   "source": [
    "Pull data from previous 'dfYoY' for select cities to plot."
   ]
  },
  {
   "cell_type": "code",
   "execution_count": 92,
   "metadata": {
    "collapsed": false
   },
   "outputs": [],
   "source": [
    "dfc = df7[((df7.City=='Danville')&(df7.State=='CA'))|(df7.City=='Rancho Santa Margarita')|((\n",
    "            df7.City =='Newton')&(df7.State =='MA'))|((df7.City =='Keller')&(dfYoY.State=='TX'))|((\n",
    "        df7.City =='Arlington')&(df7.State=='MA'))]"
   ]
  },
  {
   "cell_type": "code",
   "execution_count": 94,
   "metadata": {
    "collapsed": false
   },
   "outputs": [
    {
     "data": {
      "text/plain": [
       "<seaborn.axisgrid.FacetGrid at 0x11d3be910>"
      ]
     },
     "execution_count": 94,
     "metadata": {},
     "output_type": "execute_result"
    },
    {
     "data": {
      "image/png": "[encoded data removed]",
      "text/plain": [
       "<matplotlib.figure.Figure at 0x11d3bec50>"
      ]
     },
     "metadata": {},
     "output_type": "display_data"
    }
   ],
   "source": [
    "sns.factorplot(x = 'Year', y = 'avg_crime', hue = 'City', data = dfc, kind = 'point', aspect = 2)"
   ]
  },
  {
   "cell_type": "code",
   "execution_count": 90,
   "metadata": {
    "collapsed": false
   },
   "outputs": [],
   "source": [
    "dfb = df2[(((df2.City=='Danville')&(df2.State=='CA'))|(df2.City=='Rancho Santa Margarita')|((\n",
    "            df2.City =='Newton')&(df2.State =='MA'))|((df2.City =='Keller')&(df2.State=='TX'))|((\n",
    "        df2.City =='Arlington')&(df2.State=='MA')))&(df2.Year>'1999')]"
   ]
  },
  {
   "cell_type": "code",
   "execution_count": 91,
   "metadata": {
    "collapsed": false
   },
   "outputs": [
    {
     "data": {
      "text/plain": [
       "<seaborn.axisgrid.FacetGrid at 0x1218b1fd0>"
      ]
     },
     "execution_count": 91,
     "metadata": {},
     "output_type": "execute_result"
    },
    {
     "data": {
      "image/png": "[encoded data removed]",
      "text/plain": [
       "<matplotlib.figure.Figure at 0x12189b310>"
      ]
     },
     "metadata": {},
     "output_type": "display_data"
    }
   ],
   "source": [
    "sns.factorplot(x = 'Year', y = 'ZHVI_AllHomes', hue = 'City', data = dfb, kind = 'point', aspect = 2)"
   ]
  },
  {
   "cell_type": "markdown",
   "metadata": {},
   "source": [
    "### <font color='blue'>Danville CA, Newton MA, Arlington MA, Keller TX, and Rancho Santa Margarita CA, are the top cities in the nation that are increasing in home values while also having among the lowest crime rates. These crime rates are also continuing to decrease year over year, so it would be expected with that trend that home values will continue to rise. That makes these cities prime places to move that are both safe for families and a good investment for the future.</font></font>"
   ]
  },
  {
   "cell_type": "markdown",
   "metadata": {},
   "source": [
    " "
   ]
  }
 ],
 "metadata": {
  "kernelspec": {
   "display_name": "Python 3",
   "language": "python",
   "name": "python3"
  },
  "language_info": {
   "codemirror_mode": {
    "name": "ipython",
    "version": 3
   },
   "file_extension": ".py",
   "mimetype": "text/x-python",
   "name": "python",
   "nbconvert_exporter": "python",
   "pygments_lexer": "ipython3",
   "version": "3.6.5"
  }
 },
 "nbformat": 4,
 "nbformat_minor": 2
}
